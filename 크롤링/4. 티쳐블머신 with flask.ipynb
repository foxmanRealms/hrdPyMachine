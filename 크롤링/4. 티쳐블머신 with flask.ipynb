{
 "cells": [
  {
   "cell_type": "code",
   "execution_count": 1,
   "id": "6b398485",
   "metadata": {},
   "outputs": [
    {
     "name": "stdout",
     "output_type": "stream",
     "text": [
      "Requirement already satisfied: flask in c:\\users\\smhrd\\anaconda3\\envs\\deep\\lib\\site-packages (2.1.2)\n",
      "Requirement already satisfied: Jinja2>=3.0 in c:\\users\\smhrd\\anaconda3\\envs\\deep\\lib\\site-packages (from flask) (3.0.3)\n",
      "Requirement already satisfied: importlib-metadata>=3.6.0 in c:\\users\\smhrd\\anaconda3\\envs\\deep\\lib\\site-packages (from flask) (4.11.3)\n",
      "Requirement already satisfied: click>=8.0 in c:\\users\\smhrd\\anaconda3\\envs\\deep\\lib\\site-packages (from flask) (8.0.4)\n",
      "Requirement already satisfied: itsdangerous>=2.0 in c:\\users\\smhrd\\anaconda3\\envs\\deep\\lib\\site-packages (from flask) (2.1.2)\n",
      "Requirement already satisfied: Werkzeug>=2.0 in c:\\users\\smhrd\\anaconda3\\envs\\deep\\lib\\site-packages (from flask) (2.0.3)\n",
      "Requirement already satisfied: colorama in c:\\users\\smhrd\\anaconda3\\envs\\deep\\lib\\site-packages (from click>=8.0->flask) (0.4.4)\n",
      "Requirement already satisfied: typing-extensions>=3.6.4 in c:\\users\\smhrd\\anaconda3\\envs\\deep\\lib\\site-packages (from importlib-metadata>=3.6.0->flask) (4.1.1)\n",
      "Requirement already satisfied: zipp>=0.5 in c:\\users\\smhrd\\anaconda3\\envs\\deep\\lib\\site-packages (from importlib-metadata>=3.6.0->flask) (3.7.0)\n",
      "Requirement already satisfied: MarkupSafe>=2.0 in c:\\users\\smhrd\\anaconda3\\envs\\deep\\lib\\site-packages (from Jinja2>=3.0->flask) (2.0.1)\n"
     ]
    }
   ],
   "source": [
    "#분석용 서버구축을 위한 flask 설치\n",
    "!pip install flask"
   ]
  },
  {
   "cell_type": "code",
   "execution_count": 2,
   "id": "150c70a1",
   "metadata": {},
   "outputs": [
    {
     "name": "stdout",
     "output_type": "stream",
     "text": [
      "Requirement already satisfied: matplotlib in c:\\users\\smhrd\\anaconda3\\envs\\deep\\lib\\site-packages (3.5.2)\n",
      "Requirement already satisfied: packaging>=20.0 in c:\\users\\smhrd\\anaconda3\\envs\\deep\\lib\\site-packages (from matplotlib) (21.3)\n",
      "Requirement already satisfied: pyparsing>=2.2.1 in c:\\users\\smhrd\\anaconda3\\envs\\deep\\lib\\site-packages (from matplotlib) (3.0.4)\n",
      "Requirement already satisfied: numpy>=1.17 in c:\\users\\smhrd\\anaconda3\\envs\\deep\\lib\\site-packages (from matplotlib) (1.21.5)\n",
      "Requirement already satisfied: cycler>=0.10 in c:\\users\\smhrd\\anaconda3\\envs\\deep\\lib\\site-packages (from matplotlib) (0.11.0)\n",
      "Requirement already satisfied: pillow>=6.2.0 in c:\\users\\smhrd\\anaconda3\\envs\\deep\\lib\\site-packages (from matplotlib) (9.1.0)\n",
      "Requirement already satisfied: python-dateutil>=2.7 in c:\\users\\smhrd\\anaconda3\\envs\\deep\\lib\\site-packages (from matplotlib) (2.8.2)\n",
      "Requirement already satisfied: fonttools>=4.22.0 in c:\\users\\smhrd\\anaconda3\\envs\\deep\\lib\\site-packages (from matplotlib) (4.33.3)\n",
      "Requirement already satisfied: kiwisolver>=1.0.1 in c:\\users\\smhrd\\anaconda3\\envs\\deep\\lib\\site-packages (from matplotlib) (1.4.2)\n",
      "Requirement already satisfied: typing-extensions in c:\\users\\smhrd\\anaconda3\\envs\\deep\\lib\\site-packages (from kiwisolver>=1.0.1->matplotlib) (4.1.1)\n",
      "Requirement already satisfied: six>=1.5 in c:\\users\\smhrd\\anaconda3\\envs\\deep\\lib\\site-packages (from python-dateutil>=2.7->matplotlib) (1.16.0)\n"
     ]
    }
   ],
   "source": [
    "!pip install matplotlib"
   ]
  },
  {
   "cell_type": "code",
   "execution_count": 3,
   "id": "5efd650d",
   "metadata": {},
   "outputs": [
    {
     "name": "stdout",
     "output_type": "stream",
     "text": [
      "Requirement already satisfied: opencv-python in c:\\users\\smhrd\\anaconda3\\envs\\deep\\lib\\site-packages (4.5.5.64)\n",
      "Requirement already satisfied: numpy>=1.14.5 in c:\\users\\smhrd\\anaconda3\\envs\\deep\\lib\\site-packages (from opencv-python) (1.21.5)\n"
     ]
    }
   ],
   "source": [
    "!pip install opencv-python"
   ]
  },
  {
   "cell_type": "code",
   "execution_count": 4,
   "id": "5c40ce7a",
   "metadata": {
    "scrolled": true
   },
   "outputs": [],
   "source": [
    "### 불러오기\n",
    "from flask import Flask, request,Response,redirect\n",
    "import io # 파이썬의 입출력을 도와주는 라이브러리 \n",
    "import numpy as np\n",
    "import matplotlib.pyplot as plt\n",
    "from tensorflow.keras.models import load_model # 딥러닝 모델 로딩 함수\n",
    "import cv2\n",
    "#from PIL import image , imageOps"
   ]
  },
  {
   "cell_type": "code",
   "execution_count": null,
   "id": "bb0107a4",
   "metadata": {},
   "outputs": [
    {
     "name": "stdout",
     "output_type": "stream",
     "text": [
      "WARNING:tensorflow:No training configuration found in the save file, so the model was *not* compiled. Compile it manually.\n",
      " * Serving Flask app '__main__' (lazy loading)\n",
      " * Environment: production\n",
      "\u001b[31m   WARNING: This is a development server. Do not use it in a production deployment.\u001b[0m\n",
      "\u001b[2m   Use a production WSGI server instead.\u001b[0m\n",
      " * Debug mode: off\n"
     ]
    },
    {
     "name": "stderr",
     "output_type": "stream",
     "text": [
      " * Running on http://127.0.0.1:5000/ (Press CTRL+C to quit)\n"
     ]
    }
   ],
   "source": [
    "# 플라스크 객체 생성\n",
    "app = Flask(__name__)\n",
    "model=load_model('./keras_model.h5')\n",
    "\n",
    "#사용자 요청을 처리하기 위한 라우터 설정      ##### 라우터 :데이터를 전송할 수 있게하는 장치\n",
    "@app.route('/predict',methods=['GET','POST'])\n",
    "def predict():\n",
    "    if request.method == 'POST':\n",
    "        print(1)\n",
    "        img = request.files['file']\n",
    "        print(request.files)\n",
    "        input_stream = io.BytesIO() # byte단위로 읽어들이는 통로\n",
    "        img.save(input_stream) # file로 부터 데이터를 읽기\n",
    "        data = np.fromstring(input_stream.getvalue(), dtype = np.uint8)\n",
    "        \n",
    "        real_img = cv2.imdecode(data, 1) # 1 => 컬러정보\n",
    "        real_img = cv2.cvtColor(real_img, cv2.COLOR_BGR2RGB) # BGR에서 RGB\n",
    "        resize_img = cv2.resize(real_img, dsize = (224, 224), interpolation=cv2.INTER_AREA)\n",
    "        \n",
    "        #display(plt.imshow(resize_img))    ##### 이미지를 파이썬에서 확인하는부분\n",
    "        #plt.show()\n",
    "        \n",
    "        normalized_img=(np.array(resize_img,dtype=np.float32)/127.0  )-1\n",
    "        \n",
    "        # 예측시킬 이미지 데이터를 넣을 변수\n",
    "        data = np.ndarray(shape=(1, 224, 224, 3), dtype=np.float32)\n",
    "        # 불러온 numpy 타입의 이미지를 변수에 대입\n",
    "        data[0] = normalized_img\n",
    "        # 예측\n",
    "        prediction = model.predict(data)\n",
    "        index = np.argmax(prediction[0]) # 최대값의 인덱스\n",
    "        \n",
    "        print(index,'정답')\n",
    "\n",
    "    return redirect('http://localhost:8090/machine/predict.jsp?pre={}'.format(index) )   ##### 이클립스 실행시켜서 나오는 jsp페이지\n",
    "        \n",
    "        \n",
    "    \n",
    "app.run()  # 서버구동\n",
    "\n"
   ]
  },
  {
   "cell_type": "code",
   "execution_count": null,
   "id": "7d0e15a7",
   "metadata": {
    "scrolled": true
   },
   "outputs": [],
   "source": []
  }
 ],
 "metadata": {
  "kernelspec": {
   "display_name": "Python 3 (ipykernel)",
   "language": "python",
   "name": "python3"
  },
  "language_info": {
   "codemirror_mode": {
    "name": "ipython",
    "version": 3
   },
   "file_extension": ".py",
   "mimetype": "text/x-python",
   "name": "python",
   "nbconvert_exporter": "python",
   "pygments_lexer": "ipython3",
   "version": "3.7.13"
  }
 },
 "nbformat": 4,
 "nbformat_minor": 5
}
