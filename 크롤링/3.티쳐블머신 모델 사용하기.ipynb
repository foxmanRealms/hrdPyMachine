{
 "cells": [
  {
   "cell_type": "code",
   "execution_count": 13,
   "id": "afcdcd25",
   "metadata": {},
   "outputs": [
    {
     "name": "stdout",
     "output_type": "stream",
     "text": [
      "Requirement already satisfied: pillow in c:\\users\\smhrd\\anaconda3\\envs\\deep\\lib\\site-packages (9.1.0)\n"
     ]
    }
   ],
   "source": [
    "!pip install pillow"
   ]
  },
  {
   "cell_type": "code",
   "execution_count": 14,
   "id": "946b22cf",
   "metadata": {},
   "outputs": [],
   "source": [
    "### 불러오기 \n",
    "from tensorflow.keras.models import load_model\n",
    "from PIL import Image, ImageOps\n",
    "import numpy as np"
   ]
  },
  {
   "cell_type": "code",
   "execution_count": 15,
   "id": "a7cdc0d3",
   "metadata": {},
   "outputs": [
    {
     "name": "stdout",
     "output_type": "stream",
     "text": [
      "WARNING:tensorflow:No training configuration found in the save file, so the model was *not* compiled. Compile it manually.\n"
     ]
    }
   ],
   "source": [
    "# 학습된 모델 로딩\n",
    "model = load_model('keras_model.h5')"
   ]
  },
  {
   "cell_type": "code",
   "execution_count": 16,
   "id": "4f09ada6",
   "metadata": {},
   "outputs": [],
   "source": [
    "#예측시킬 이미지 데이터를 넣을 변수 \n",
    "### ndarray  어레이만드는 함수.      아래 차원은 4차원이다 \n",
    "data = np.ndarray(shape=(1, 224, 224, 3), dtype=np.float32)"
   ]
  },
  {
   "cell_type": "code",
   "execution_count": 17,
   "id": "7d134d9f",
   "metadata": {},
   "outputs": [],
   "source": [
    "#예측시킬 이미지 로딩 "
   ]
  },
  {
   "cell_type": "code",
   "execution_count": 18,
   "id": "4987f700",
   "metadata": {},
   "outputs": [],
   "source": [
    "image = Image.open('./fox_test.png')"
   ]
  },
  {
   "cell_type": "code",
   "execution_count": 19,
   "id": "504bdb61",
   "metadata": {
    "collapsed": true
   },
   "outputs": [
    {
     "name": "stderr",
     "output_type": "stream",
     "text": [
      "C:\\Users\\smhrd\\anaconda3\\envs\\deep\\lib\\site-packages\\ipykernel_launcher.py:3: DeprecationWarning: ANTIALIAS is deprecated and will be removed in Pillow 10 (2023-07-01). Use Resampling.LANCZOS instead.\n",
      "  This is separate from the ipykernel package so we can avoid doing imports until\n"
     ]
    }
   ],
   "source": [
    "# 예측시킬 이미지를 224x224 크기로 리사이징\n",
    "size=(224,224)\n",
    "image=ImageOps.fit(image,size,Image.ANTIALIAS)"
   ]
  },
  {
   "cell_type": "code",
   "execution_count": 20,
   "id": "3f27c820",
   "metadata": {
    "collapsed": true
   },
   "outputs": [
    {
     "data": {
      "text/plain": [
       "array([[[255, 255, 255],\n",
       "        [255, 255, 255],\n",
       "        [255, 255, 255],\n",
       "        ...,\n",
       "        [255, 255, 255],\n",
       "        [255, 255, 255],\n",
       "        [255, 255, 255]],\n",
       "\n",
       "       [[255, 255, 255],\n",
       "        [255, 255, 255],\n",
       "        [255, 255, 255],\n",
       "        ...,\n",
       "        [255, 255, 255],\n",
       "        [255, 255, 255],\n",
       "        [255, 255, 255]],\n",
       "\n",
       "       [[255, 255, 255],\n",
       "        [255, 255, 255],\n",
       "        [255, 255, 255],\n",
       "        ...,\n",
       "        [255, 255, 255],\n",
       "        [255, 255, 255],\n",
       "        [255, 255, 255]],\n",
       "\n",
       "       ...,\n",
       "\n",
       "       [[246, 246, 246],\n",
       "        [246, 246, 246],\n",
       "        [246, 246, 246],\n",
       "        ...,\n",
       "        [255, 255, 255],\n",
       "        [255, 255, 255],\n",
       "        [255, 255, 255]],\n",
       "\n",
       "       [[255, 255, 255],\n",
       "        [255, 255, 255],\n",
       "        [255, 255, 255],\n",
       "        ...,\n",
       "        [255, 255, 255],\n",
       "        [255, 255, 255],\n",
       "        [255, 255, 255]],\n",
       "\n",
       "       [[255, 255, 255],\n",
       "        [255, 255, 255],\n",
       "        [255, 255, 255],\n",
       "        ...,\n",
       "        [255, 255, 255],\n",
       "        [255, 255, 255],\n",
       "        [255, 255, 255]]], dtype=uint8)"
      ]
     },
     "execution_count": 20,
     "metadata": {},
     "output_type": "execute_result"
    }
   ],
   "source": [
    "image_array = np.asarray(image)\n",
    "image_array"
   ]
  },
  {
   "cell_type": "code",
   "execution_count": 21,
   "id": "b2fb34d2",
   "metadata": {
    "collapsed": true
   },
   "outputs": [
    {
     "data": {
      "text/plain": [
       "array([[[1.007874 , 1.007874 , 1.007874 ],\n",
       "        [1.007874 , 1.007874 , 1.007874 ],\n",
       "        [1.007874 , 1.007874 , 1.007874 ],\n",
       "        ...,\n",
       "        [1.007874 , 1.007874 , 1.007874 ],\n",
       "        [1.007874 , 1.007874 , 1.007874 ],\n",
       "        [1.007874 , 1.007874 , 1.007874 ]],\n",
       "\n",
       "       [[1.007874 , 1.007874 , 1.007874 ],\n",
       "        [1.007874 , 1.007874 , 1.007874 ],\n",
       "        [1.007874 , 1.007874 , 1.007874 ],\n",
       "        ...,\n",
       "        [1.007874 , 1.007874 , 1.007874 ],\n",
       "        [1.007874 , 1.007874 , 1.007874 ],\n",
       "        [1.007874 , 1.007874 , 1.007874 ]],\n",
       "\n",
       "       [[1.007874 , 1.007874 , 1.007874 ],\n",
       "        [1.007874 , 1.007874 , 1.007874 ],\n",
       "        [1.007874 , 1.007874 , 1.007874 ],\n",
       "        ...,\n",
       "        [1.007874 , 1.007874 , 1.007874 ],\n",
       "        [1.007874 , 1.007874 , 1.007874 ],\n",
       "        [1.007874 , 1.007874 , 1.007874 ]],\n",
       "\n",
       "       ...,\n",
       "\n",
       "       [[0.9370079, 0.9370079, 0.9370079],\n",
       "        [0.9370079, 0.9370079, 0.9370079],\n",
       "        [0.9370079, 0.9370079, 0.9370079],\n",
       "        ...,\n",
       "        [1.007874 , 1.007874 , 1.007874 ],\n",
       "        [1.007874 , 1.007874 , 1.007874 ],\n",
       "        [1.007874 , 1.007874 , 1.007874 ]],\n",
       "\n",
       "       [[1.007874 , 1.007874 , 1.007874 ],\n",
       "        [1.007874 , 1.007874 , 1.007874 ],\n",
       "        [1.007874 , 1.007874 , 1.007874 ],\n",
       "        ...,\n",
       "        [1.007874 , 1.007874 , 1.007874 ],\n",
       "        [1.007874 , 1.007874 , 1.007874 ],\n",
       "        [1.007874 , 1.007874 , 1.007874 ]],\n",
       "\n",
       "       [[1.007874 , 1.007874 , 1.007874 ],\n",
       "        [1.007874 , 1.007874 , 1.007874 ],\n",
       "        [1.007874 , 1.007874 , 1.007874 ],\n",
       "        ...,\n",
       "        [1.007874 , 1.007874 , 1.007874 ],\n",
       "        [1.007874 , 1.007874 , 1.007874 ],\n",
       "        [1.007874 , 1.007874 , 1.007874 ]]], dtype=float32)"
      ]
     },
     "execution_count": 21,
     "metadata": {},
     "output_type": "execute_result"
    }
   ],
   "source": [
    "#정규화 작업(전처리): 학습속도 및 성능 최적화에 도움\n",
    "normalized_image_array = (image_array.astype(np.float32) / 127.0) - 1\n",
    "normalized_image_array"
   ]
  },
  {
   "cell_type": "code",
   "execution_count": 22,
   "id": "30d0dda9",
   "metadata": {},
   "outputs": [],
   "source": [
    "#불러온 numpy 타입의 이미지를 변수에 대입\n",
    "data[0] = normalized_image_array"
   ]
  },
  {
   "cell_type": "code",
   "execution_count": 23,
   "id": "50a0a85a",
   "metadata": {},
   "outputs": [
    {
     "name": "stdout",
     "output_type": "stream",
     "text": [
      "[[9.999987e-01 1.299956e-06]]\n"
     ]
    }
   ],
   "source": [
    "# 예측\n",
    "prediction = model.predict(data)\n",
    "print(prediction)"
   ]
  },
  {
   "cell_type": "code",
   "execution_count": null,
   "id": "ec267154",
   "metadata": {},
   "outputs": [],
   "source": []
  }
 ],
 "metadata": {
  "kernelspec": {
   "display_name": "Python 3 (ipykernel)",
   "language": "python",
   "name": "python3"
  },
  "language_info": {
   "codemirror_mode": {
    "name": "ipython",
    "version": 3
   },
   "file_extension": ".py",
   "mimetype": "text/x-python",
   "name": "python",
   "nbconvert_exporter": "python",
   "pygments_lexer": "ipython3",
   "version": "3.7.13"
  }
 },
 "nbformat": 4,
 "nbformat_minor": 5
}
