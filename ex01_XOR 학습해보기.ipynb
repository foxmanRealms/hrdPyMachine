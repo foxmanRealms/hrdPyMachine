{
 "cells": [
  {
   "cell_type": "markdown",
   "id": "3b80b518",
   "metadata": {},
   "source": [
    "### AND 학습해보기\n",
    "- 1과 1이 만났을 때만 1이되는 AND연산"
   ]
  },
  {
   "cell_type": "code",
   "execution_count": 1,
   "id": "014a9d27",
   "metadata": {},
   "outputs": [],
   "source": [
    "import pandas as pd"
   ]
  },
  {
   "cell_type": "code",
   "execution_count": 2,
   "id": "2d0f318f",
   "metadata": {},
   "outputs": [
    {
     "data": {
      "text/html": [
       "<div>\n",
       "<style scoped>\n",
       "    .dataframe tbody tr th:only-of-type {\n",
       "        vertical-align: middle;\n",
       "    }\n",
       "\n",
       "    .dataframe tbody tr th {\n",
       "        vertical-align: top;\n",
       "    }\n",
       "\n",
       "    .dataframe thead th {\n",
       "        text-align: right;\n",
       "    }\n",
       "</style>\n",
       "<table border=\"1\" class=\"dataframe\">\n",
       "  <thead>\n",
       "    <tr style=\"text-align: right;\">\n",
       "      <th></th>\n",
       "      <th>P</th>\n",
       "      <th>Q</th>\n",
       "      <th>P AND Q</th>\n",
       "    </tr>\n",
       "  </thead>\n",
       "  <tbody>\n",
       "    <tr>\n",
       "      <th>0</th>\n",
       "      <td>0</td>\n",
       "      <td>0</td>\n",
       "      <td>0</td>\n",
       "    </tr>\n",
       "    <tr>\n",
       "      <th>1</th>\n",
       "      <td>1</td>\n",
       "      <td>0</td>\n",
       "      <td>0</td>\n",
       "    </tr>\n",
       "    <tr>\n",
       "      <th>2</th>\n",
       "      <td>0</td>\n",
       "      <td>1</td>\n",
       "      <td>0</td>\n",
       "    </tr>\n",
       "    <tr>\n",
       "      <th>3</th>\n",
       "      <td>1</td>\n",
       "      <td>1</td>\n",
       "      <td>1</td>\n",
       "    </tr>\n",
       "  </tbody>\n",
       "</table>\n",
       "</div>"
      ],
      "text/plain": [
       "   P  Q  P AND Q\n",
       "0  0  0        0\n",
       "1  1  0        0\n",
       "2  0  1        0\n",
       "3  1  1        1"
      ]
     },
     "execution_count": 2,
     "metadata": {},
     "output_type": "execute_result"
    }
   ],
   "source": [
    "### p랑 q가 문제가 된다\n",
    "data=[\n",
    "    [0,0,0],\n",
    "    [1,0,0],\n",
    "    [0,1,0],\n",
    "    [1,1,1]\n",
    "]\n",
    "df=pd.DataFrame(data,columns=['P','Q','P AND Q'])\n",
    "df"
   ]
  },
  {
   "cell_type": "code",
   "execution_count": 3,
   "id": "1f7d7203",
   "metadata": {},
   "outputs": [],
   "source": [
    "# 문제와 정답을 나누자   ### 문제는 X 대문자x에 넣자고 약속한 것이다\n",
    "X=df.iloc[:,:2]   ### 행은 전부다 나와야되니까 [:, ]\n",
    "y=df.iloc[:,2] "
   ]
  },
  {
   "cell_type": "code",
   "execution_count": 4,
   "id": "e541ba60",
   "metadata": {},
   "outputs": [],
   "source": [
    "### 불러오기\n",
    "from sklearn.neighbors import KNeighborsClassifier\n",
    "from sklearn import metrics   ### 성능을 측정하는 라이브러리 "
   ]
  },
  {
   "cell_type": "code",
   "execution_count": 5,
   "id": "a251fa89",
   "metadata": {},
   "outputs": [],
   "source": [
    "knn=KNeighborsClassifier(n_neighbors=1)    #모델 생성"
   ]
  },
  {
   "cell_type": "code",
   "execution_count": 6,
   "id": "5bfd588c",
   "metadata": {},
   "outputs": [
    {
     "data": {
      "text/plain": [
       "KNeighborsClassifier(n_neighbors=1)"
      ]
     },
     "execution_count": 6,
     "metadata": {},
     "output_type": "execute_result"
    }
   ],
   "source": [
    "knn.fit(X,y)  # 학습하기"
   ]
  },
  {
   "cell_type": "code",
   "execution_count": 7,
   "id": "c253ddc4",
   "metadata": {},
   "outputs": [],
   "source": [
    "pre=knn.predict( [[0,0],[1,1], [1,1]]) # 예측하기    ### 예측값이니까 pre변수에 담아준다"
   ]
  },
  {
   "cell_type": "code",
   "execution_count": 8,
   "id": "8a09f9a0",
   "metadata": {},
   "outputs": [],
   "source": [
    "answer=[0,1,1]"
   ]
  },
  {
   "cell_type": "code",
   "execution_count": 9,
   "id": "b7db3248",
   "metadata": {},
   "outputs": [
    {
     "data": {
      "text/plain": [
       "1.0"
      ]
     },
     "execution_count": 9,
     "metadata": {},
     "output_type": "execute_result"
    }
   ],
   "source": [
    "metrics.accuracy_score(answer,pre)"
   ]
  },
  {
   "cell_type": "markdown",
   "id": "b1226c17",
   "metadata": {},
   "source": [
    "### OR 학습해보기"
   ]
  },
  {
   "cell_type": "code",
   "execution_count": 10,
   "id": "95815b94",
   "metadata": {},
   "outputs": [
    {
     "data": {
      "text/html": [
       "<div>\n",
       "<style scoped>\n",
       "    .dataframe tbody tr th:only-of-type {\n",
       "        vertical-align: middle;\n",
       "    }\n",
       "\n",
       "    .dataframe tbody tr th {\n",
       "        vertical-align: top;\n",
       "    }\n",
       "\n",
       "    .dataframe thead th {\n",
       "        text-align: right;\n",
       "    }\n",
       "</style>\n",
       "<table border=\"1\" class=\"dataframe\">\n",
       "  <thead>\n",
       "    <tr style=\"text-align: right;\">\n",
       "      <th></th>\n",
       "      <th>P</th>\n",
       "      <th>Q</th>\n",
       "      <th>P OR Q</th>\n",
       "    </tr>\n",
       "  </thead>\n",
       "  <tbody>\n",
       "    <tr>\n",
       "      <th>0</th>\n",
       "      <td>0</td>\n",
       "      <td>0</td>\n",
       "      <td>0</td>\n",
       "    </tr>\n",
       "    <tr>\n",
       "      <th>1</th>\n",
       "      <td>1</td>\n",
       "      <td>0</td>\n",
       "      <td>0</td>\n",
       "    </tr>\n",
       "    <tr>\n",
       "      <th>2</th>\n",
       "      <td>0</td>\n",
       "      <td>1</td>\n",
       "      <td>0</td>\n",
       "    </tr>\n",
       "    <tr>\n",
       "      <th>3</th>\n",
       "      <td>1</td>\n",
       "      <td>1</td>\n",
       "      <td>1</td>\n",
       "    </tr>\n",
       "  </tbody>\n",
       "</table>\n",
       "</div>"
      ],
      "text/plain": [
       "   P  Q  P OR Q\n",
       "0  0  0       0\n",
       "1  1  0       0\n",
       "2  0  1       0\n",
       "3  1  1       1"
      ]
     },
     "execution_count": 10,
     "metadata": {},
     "output_type": "execute_result"
    }
   ],
   "source": [
    "data1=[\n",
    "    [0,0,0],\n",
    "    [1,0,0],\n",
    "    [0,1,0],\n",
    "    [1,1,1]\n",
    "]\n",
    "df1=pd.DataFrame(data,columns=['P','Q','P OR Q'])\n",
    "df1"
   ]
  },
  {
   "cell_type": "code",
   "execution_count": 11,
   "id": "50c4373a",
   "metadata": {},
   "outputs": [],
   "source": [
    "# 문제와 정답을 나누자   ### 문제는 X 대문자x에 넣자고 약속한 것이다\n",
    "X1=df.iloc[:,:2]   ### 행은 전부다 나와야되니까 [:, ]\n",
    "y1=df.iloc[:,2] "
   ]
  },
  {
   "cell_type": "code",
   "execution_count": 12,
   "id": "b87f33a7",
   "metadata": {},
   "outputs": [],
   "source": [
    "knn=KNeighborsClassifier(n_neighbors=1)    #모델 생성"
   ]
  },
  {
   "cell_type": "code",
   "execution_count": 13,
   "id": "abd05c18",
   "metadata": {},
   "outputs": [
    {
     "data": {
      "text/plain": [
       "KNeighborsClassifier(n_neighbors=1)"
      ]
     },
     "execution_count": 13,
     "metadata": {},
     "output_type": "execute_result"
    }
   ],
   "source": [
    "knn.fit(X1,y1)  # 학습하기"
   ]
  },
  {
   "cell_type": "code",
   "execution_count": 14,
   "id": "4686037c",
   "metadata": {},
   "outputs": [],
   "source": [
    "pre1=knn.predict( [[0,0],[1,1], [0,1]]) # 예측하기    ### 예측값이니까 pre변수에 담아준다\n",
    "answer1=[0,1,0]"
   ]
  },
  {
   "cell_type": "code",
   "execution_count": 15,
   "id": "44f256c8",
   "metadata": {},
   "outputs": [
    {
     "data": {
      "text/plain": [
       "1.0"
      ]
     },
     "execution_count": 15,
     "metadata": {},
     "output_type": "execute_result"
    }
   ],
   "source": [
    "metrics.accuracy_score(answer1,pre1)"
   ]
  },
  {
   "cell_type": "code",
   "execution_count": 16,
   "id": "dfca01ca",
   "metadata": {},
   "outputs": [],
   "source": [
    "### OR 풀이 \n",
    "data=[\n",
    "    [0,0,0],\n",
    "    [1,0,1],\n",
    "    [0,1,1],\n",
    "    [1,1,1],\n",
    "]"
   ]
  },
  {
   "cell_type": "code",
   "execution_count": 17,
   "id": "76c2df4a",
   "metadata": {},
   "outputs": [],
   "source": [
    "data=pd.DataFrame(data,columns=['P','Q','P OR Q'])"
   ]
  },
  {
   "cell_type": "code",
   "execution_count": 18,
   "id": "d68669c2",
   "metadata": {},
   "outputs": [],
   "source": [
    "X=data.iloc[:,:2]   \n",
    "y=data.iloc[:,2] "
   ]
  },
  {
   "cell_type": "code",
   "execution_count": 19,
   "id": "ea6b164c",
   "metadata": {},
   "outputs": [
    {
     "data": {
      "text/plain": [
       "KNeighborsClassifier(n_neighbors=1)"
      ]
     },
     "execution_count": 19,
     "metadata": {},
     "output_type": "execute_result"
    }
   ],
   "source": [
    "knn2=KNeighborsClassifier(n_neighbors=1)\n",
    "knn2.fit(X,y)"
   ]
  },
  {
   "cell_type": "code",
   "execution_count": 20,
   "id": "dee5e205",
   "metadata": {},
   "outputs": [],
   "source": [
    "pre= knn2.predict( [[1,0],[1,1]])"
   ]
  },
  {
   "cell_type": "code",
   "execution_count": 21,
   "id": "e11a675d",
   "metadata": {},
   "outputs": [],
   "source": [
    "answer=[1,1]"
   ]
  },
  {
   "cell_type": "code",
   "execution_count": 22,
   "id": "13dd13f2",
   "metadata": {},
   "outputs": [
    {
     "data": {
      "text/plain": [
       "1.0"
      ]
     },
     "execution_count": 22,
     "metadata": {},
     "output_type": "execute_result"
    }
   ],
   "source": [
    "metrics.accuracy_score(answer,pre)"
   ]
  },
  {
   "cell_type": "markdown",
   "id": "dd6fa1d0",
   "metadata": {},
   "source": [
    "### XOR 학습해보기\n",
    "- exclusive or 게이트"
   ]
  },
  {
   "cell_type": "code",
   "execution_count": 23,
   "id": "eebc23bb",
   "metadata": {},
   "outputs": [],
   "source": [
    "### 같을 때 0 이고  서로 다를때 1이다 \n",
    "data=[\n",
    "    [0,0,0],\n",
    "    [1,0,1],\n",
    "    [0,1,1],\n",
    "    [1,1,0],\n",
    "]"
   ]
  },
  {
   "cell_type": "code",
   "execution_count": 24,
   "id": "0bb9a848",
   "metadata": {},
   "outputs": [],
   "source": [
    "data=pd.DataFrame(data,columns=['P','Q','P XOR Q'])"
   ]
  },
  {
   "cell_type": "code",
   "execution_count": 25,
   "id": "1c3e8bf9",
   "metadata": {},
   "outputs": [],
   "source": [
    "X=data.iloc[:,:2]   \n",
    "y=data.iloc[:,2] "
   ]
  },
  {
   "cell_type": "code",
   "execution_count": 26,
   "id": "7aa02ac1",
   "metadata": {},
   "outputs": [
    {
     "data": {
      "text/plain": [
       "KNeighborsClassifier(n_neighbors=1)"
      ]
     },
     "execution_count": 26,
     "metadata": {},
     "output_type": "execute_result"
    }
   ],
   "source": [
    "knn3=KNeighborsClassifier(n_neighbors=1)\n",
    "knn3.fit(X,y)"
   ]
  },
  {
   "cell_type": "code",
   "execution_count": 27,
   "id": "68e9469f",
   "metadata": {},
   "outputs": [],
   "source": [
    "pre=knn3.predict([[1,0],[1,1]])"
   ]
  },
  {
   "cell_type": "code",
   "execution_count": 28,
   "id": "0860b1ea",
   "metadata": {},
   "outputs": [],
   "source": [
    "answer=[1,0]"
   ]
  },
  {
   "cell_type": "code",
   "execution_count": 29,
   "id": "0428f9b8",
   "metadata": {},
   "outputs": [
    {
     "data": {
      "text/plain": [
       "1.0"
      ]
     },
     "execution_count": 29,
     "metadata": {},
     "output_type": "execute_result"
    }
   ],
   "source": [
    "metrics.accuracy_score(answer,pre)"
   ]
  },
  {
   "cell_type": "code",
   "execution_count": null,
   "id": "6261ac48",
   "metadata": {},
   "outputs": [],
   "source": []
  }
 ],
 "metadata": {
  "kernelspec": {
   "display_name": "Python 3 (ipykernel)",
   "language": "python",
   "name": "python3"
  },
  "language_info": {
   "codemirror_mode": {
    "name": "ipython",
    "version": 3
   },
   "file_extension": ".py",
   "mimetype": "text/x-python",
   "name": "python",
   "nbconvert_exporter": "python",
   "pygments_lexer": "ipython3",
   "version": "3.9.7"
  }
 },
 "nbformat": 4,
 "nbformat_minor": 5
}
