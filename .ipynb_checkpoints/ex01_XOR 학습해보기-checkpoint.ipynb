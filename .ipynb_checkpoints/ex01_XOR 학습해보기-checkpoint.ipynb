{
 "cells": [
  {
   "cell_type": "markdown",
   "id": "a8022fe4",
   "metadata": {},
   "source": [
    "### AND 학습해보기\n",
    "- 1과 1이 만났을 때만 1이되는 AND연산"
   ]
  },
  {
   "cell_type": "code",
   "execution_count": 1,
   "id": "9e14f96d",
   "metadata": {},
   "outputs": [],
   "source": [
    "import pandas as pd"
   ]
  },
  {
   "cell_type": "code",
   "execution_count": 2,
   "id": "d58834d4",
   "metadata": {},
   "outputs": [
    {
     "data": {
      "text/html": [
       "<div>\n",
       "<style scoped>\n",
       "    .dataframe tbody tr th:only-of-type {\n",
       "        vertical-align: middle;\n",
       "    }\n",
       "\n",
       "    .dataframe tbody tr th {\n",
       "        vertical-align: top;\n",
       "    }\n",
       "\n",
       "    .dataframe thead th {\n",
       "        text-align: right;\n",
       "    }\n",
       "</style>\n",
       "<table border=\"1\" class=\"dataframe\">\n",
       "  <thead>\n",
       "    <tr style=\"text-align: right;\">\n",
       "      <th></th>\n",
       "      <th>P</th>\n",
       "      <th>Q</th>\n",
       "      <th>P AND Q</th>\n",
       "    </tr>\n",
       "  </thead>\n",
       "  <tbody>\n",
       "    <tr>\n",
       "      <th>0</th>\n",
       "      <td>0</td>\n",
       "      <td>0</td>\n",
       "      <td>0</td>\n",
       "    </tr>\n",
       "    <tr>\n",
       "      <th>1</th>\n",
       "      <td>1</td>\n",
       "      <td>0</td>\n",
       "      <td>0</td>\n",
       "    </tr>\n",
       "    <tr>\n",
       "      <th>2</th>\n",
       "      <td>0</td>\n",
       "      <td>1</td>\n",
       "      <td>0</td>\n",
       "    </tr>\n",
       "    <tr>\n",
       "      <th>3</th>\n",
       "      <td>1</td>\n",
       "      <td>1</td>\n",
       "      <td>1</td>\n",
       "    </tr>\n",
       "  </tbody>\n",
       "</table>\n",
       "</div>"
      ],
      "text/plain": [
       "   P  Q  P AND Q\n",
       "0  0  0        0\n",
       "1  1  0        0\n",
       "2  0  1        0\n",
       "3  1  1        1"
      ]
     },
     "execution_count": 2,
     "metadata": {},
     "output_type": "execute_result"
    }
   ],
   "source": [
    "### p랑 q가 문제가 된다\n",
    "data=[\n",
    "    [0,0,0],\n",
    "    [1,0,0],\n",
    "    [0,1,0],\n",
    "    [1,1,1]\n",
    "]\n",
    "df=pd.DataFrame(data,columns=['P','Q','P AND Q'])\n",
    "df"
   ]
  },
  {
   "cell_type": "code",
   "execution_count": 3,
   "id": "d07f0b7e",
   "metadata": {},
   "outputs": [],
   "source": [
    "# 문제와 정답을 나누자   ### 문제는 X 대문자x에 넣자고 약속한 것이다\n",
    "X=df.iloc[:,:2]   ### 행은 전부다 나와야되니까 [:, ]\n",
    "y=df.iloc[:,2] "
   ]
  },
  {
   "cell_type": "code",
   "execution_count": 4,
   "id": "70228817",
   "metadata": {},
   "outputs": [],
   "source": [
    "### 불러오기\n",
    "from sklearn.neighbors import KNeighborsClassifier\n",
    "from sklearn import metrics   ### 성능을 측정하는 라이브러리 "
   ]
  },
  {
   "cell_type": "code",
   "execution_count": 5,
   "id": "fc141a26",
   "metadata": {},
   "outputs": [],
   "source": [
    "knn=KNeighborsClassifier(n_neighbors=1)    #모델 생성"
   ]
  },
  {
   "cell_type": "code",
   "execution_count": 6,
   "id": "77681e6f",
   "metadata": {},
   "outputs": [
    {
     "data": {
      "text/plain": [
       "KNeighborsClassifier(n_neighbors=1)"
      ]
     },
     "execution_count": 6,
     "metadata": {},
     "output_type": "execute_result"
    }
   ],
   "source": [
    "knn.fit(X,y)  # 학습하기"
   ]
  },
  {
   "cell_type": "code",
   "execution_count": 7,
   "id": "1e2c7f54",
   "metadata": {},
   "outputs": [],
   "source": [
    "pre=knn.predict( [[0,0],[1,1], [1,1]]) # 예측하기    ### 예측값이니까 pre변수에 담아준다"
   ]
  },
  {
   "cell_type": "code",
   "execution_count": 8,
   "id": "fb56a65d",
   "metadata": {},
   "outputs": [],
   "source": [
    "answer=[0,1,1]"
   ]
  },
  {
   "cell_type": "code",
   "execution_count": 9,
   "id": "0f3843c3",
   "metadata": {},
   "outputs": [
    {
     "data": {
      "text/plain": [
       "1.0"
      ]
     },
     "execution_count": 9,
     "metadata": {},
     "output_type": "execute_result"
    }
   ],
   "source": [
    "metrics.accuracy_score(answer,pre)"
   ]
  },
  {
   "cell_type": "markdown",
   "id": "1d428c5b",
   "metadata": {},
   "source": [
    "### OR 학습해보기"
   ]
  },
  {
   "cell_type": "code",
   "execution_count": 10,
   "id": "fb936c76",
   "metadata": {},
   "outputs": [
    {
     "data": {
      "text/html": [
       "<div>\n",
       "<style scoped>\n",
       "    .dataframe tbody tr th:only-of-type {\n",
       "        vertical-align: middle;\n",
       "    }\n",
       "\n",
       "    .dataframe tbody tr th {\n",
       "        vertical-align: top;\n",
       "    }\n",
       "\n",
       "    .dataframe thead th {\n",
       "        text-align: right;\n",
       "    }\n",
       "</style>\n",
       "<table border=\"1\" class=\"dataframe\">\n",
       "  <thead>\n",
       "    <tr style=\"text-align: right;\">\n",
       "      <th></th>\n",
       "      <th>P</th>\n",
       "      <th>Q</th>\n",
       "      <th>P OR Q</th>\n",
       "    </tr>\n",
       "  </thead>\n",
       "  <tbody>\n",
       "    <tr>\n",
       "      <th>0</th>\n",
       "      <td>0</td>\n",
       "      <td>0</td>\n",
       "      <td>0</td>\n",
       "    </tr>\n",
       "    <tr>\n",
       "      <th>1</th>\n",
       "      <td>1</td>\n",
       "      <td>0</td>\n",
       "      <td>0</td>\n",
       "    </tr>\n",
       "    <tr>\n",
       "      <th>2</th>\n",
       "      <td>0</td>\n",
       "      <td>1</td>\n",
       "      <td>0</td>\n",
       "    </tr>\n",
       "    <tr>\n",
       "      <th>3</th>\n",
       "      <td>1</td>\n",
       "      <td>1</td>\n",
       "      <td>1</td>\n",
       "    </tr>\n",
       "  </tbody>\n",
       "</table>\n",
       "</div>"
      ],
      "text/plain": [
       "   P  Q  P OR Q\n",
       "0  0  0       0\n",
       "1  1  0       0\n",
       "2  0  1       0\n",
       "3  1  1       1"
      ]
     },
     "execution_count": 10,
     "metadata": {},
     "output_type": "execute_result"
    }
   ],
   "source": [
    "data1=[\n",
    "    [0,0,0],\n",
    "    [1,0,0],\n",
    "    [0,1,0],\n",
    "    [1,1,1]\n",
    "]\n",
    "df1=pd.DataFrame(data,columns=['P','Q','P OR Q'])\n",
    "df1"
   ]
  },
  {
   "cell_type": "code",
   "execution_count": 11,
   "id": "4d43397b",
   "metadata": {},
   "outputs": [],
   "source": [
    "# 문제와 정답을 나누자   ### 문제는 X 대문자x에 넣자고 약속한 것이다\n",
    "X1=df.iloc[:,:2]   ### 행은 전부다 나와야되니까 [:, ]\n",
    "y1=df.iloc[:,2] "
   ]
  },
  {
   "cell_type": "code",
   "execution_count": 12,
   "id": "9c912206",
   "metadata": {},
   "outputs": [],
   "source": [
    "knn=KNeighborsClassifier(n_neighbors=1)    #모델 생성"
   ]
  },
  {
   "cell_type": "code",
   "execution_count": 13,
   "id": "de613ed7",
   "metadata": {},
   "outputs": [
    {
     "data": {
      "text/plain": [
       "KNeighborsClassifier(n_neighbors=1)"
      ]
     },
     "execution_count": 13,
     "metadata": {},
     "output_type": "execute_result"
    }
   ],
   "source": [
    "knn.fit(X1,y1)  # 학습하기"
   ]
  },
  {
   "cell_type": "code",
   "execution_count": 14,
   "id": "3eefee8d",
   "metadata": {},
   "outputs": [],
   "source": [
    "pre1=knn.predict( [[0,0],[1,1], [0,1]]) # 예측하기    ### 예측값이니까 pre변수에 담아준다\n",
    "answer1=[0,1,0]"
   ]
  },
  {
   "cell_type": "code",
   "execution_count": 15,
   "id": "a5c1516a",
   "metadata": {},
   "outputs": [
    {
     "data": {
      "text/plain": [
       "1.0"
      ]
     },
     "execution_count": 15,
     "metadata": {},
     "output_type": "execute_result"
    }
   ],
   "source": [
    "metrics.accuracy_score(answer1,pre1)"
   ]
  },
  {
   "cell_type": "code",
   "execution_count": 16,
   "id": "147b13c1",
   "metadata": {},
   "outputs": [],
   "source": [
    "### OR 풀이 \n",
    "data=[\n",
    "    [0,0,0],\n",
    "    [1,0,1],\n",
    "    [0,1,1],\n",
    "    [1,1,1],\n",
    "]"
   ]
  },
  {
   "cell_type": "code",
   "execution_count": 18,
   "id": "eb76ee47",
   "metadata": {},
   "outputs": [],
   "source": [
    "data=pd.DataFrame(data,columns=['P','Q','P OR Q'])"
   ]
  },
  {
   "cell_type": "code",
   "execution_count": 19,
   "id": "af6cf63b",
   "metadata": {},
   "outputs": [],
   "source": [
    "X1=df.iloc[:,:2]   \n",
    "y1=df.iloc[:,2] "
   ]
  },
  {
   "cell_type": "code",
   "execution_count": 21,
   "id": "71806dc2",
   "metadata": {},
   "outputs": [
    {
     "data": {
      "text/plain": [
       "KNeighborsClassifier(n_neighbors=1)"
      ]
     },
     "execution_count": 21,
     "metadata": {},
     "output_type": "execute_result"
    }
   ],
   "source": [
    "knn2=KNeighborsClassifier(n_neighbors=1)\n",
    "knn2.fit(X,y)"
   ]
  },
  {
   "cell_type": "code",
   "execution_count": 22,
   "id": "3fbaf416",
   "metadata": {},
   "outputs": [],
   "source": [
    "pre= knn2.predict( [[1,0],[1,1]])"
   ]
  },
  {
   "cell_type": "code",
   "execution_count": 23,
   "id": "87870572",
   "metadata": {},
   "outputs": [],
   "source": [
    "answer=[1,1]"
   ]
  },
  {
   "cell_type": "code",
   "execution_count": 24,
   "id": "756c8cf8",
   "metadata": {},
   "outputs": [
    {
     "data": {
      "text/plain": [
       "0.5"
      ]
     },
     "execution_count": 24,
     "metadata": {},
     "output_type": "execute_result"
    }
   ],
   "source": [
    "metrics.accuracy_score(answer,pre)"
   ]
  },
  {
   "cell_type": "markdown",
   "id": "3bfa7a1a",
   "metadata": {},
   "source": [
    "### XOR 학습해보기\n",
    "- exclusive or 게이트"
   ]
  },
  {
   "cell_type": "code",
   "execution_count": 25,
   "id": "5103d299",
   "metadata": {},
   "outputs": [],
   "source": [
    "### 같을 때 0 이고  서로 다를때 1이다 \n",
    "data=[\n",
    "    [0,0,0],\n",
    "    [1,0,1],\n",
    "    [0,1,1],\n",
    "    [1,1,0],\n",
    "]"
   ]
  },
  {
   "cell_type": "code",
   "execution_count": null,
   "id": "644c182b",
   "metadata": {},
   "outputs": [],
   "source": []
  }
 ],
 "metadata": {
  "kernelspec": {
   "display_name": "Python 3 (ipykernel)",
   "language": "python",
   "name": "python3"
  },
  "language_info": {
   "codemirror_mode": {
    "name": "ipython",
    "version": 3
   },
   "file_extension": ".py",
   "mimetype": "text/x-python",
   "name": "python",
   "nbconvert_exporter": "python",
   "pygments_lexer": "ipython3",
   "version": "3.9.7"
  }
 },
 "nbformat": 4,
 "nbformat_minor": 5
}
