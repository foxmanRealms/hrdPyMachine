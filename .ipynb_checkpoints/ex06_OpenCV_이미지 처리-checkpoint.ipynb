{
 "cells": [
  {
   "cell_type": "markdown",
   "id": "5786f73e",
   "metadata": {},
   "source": [
    "# 이미지 처리 방법\n",
    "- 1) 픽셀 기반 처리\n",
    "- 2) 블록 기반 처리  \n",
    "    - 블록 : 픽셀을 그룹화 한 것        왠만한 처리는 블록기반처리를 이용한다\n",
    "- 3) 주파수 기반 처리\n",
    "    - 이미지에서의 주파수 : 이미지 픽셀값의 변화.              인접한 픽셀사이에 얼마나 큰 변화가 있었는지\n",
    "    - 고주파 : 픽셀값의 변화가 큼\n",
    "    - 저주파 : 픽셀값의 변화가 작음"
   ]
  },
  {
   "cell_type": "markdown",
   "id": "038b858a",
   "metadata": {},
   "source": [
    "## 이미지 픽셀 값 출력"
   ]
  },
  {
   "cell_type": "code",
   "execution_count": 1,
   "id": "527f951e",
   "metadata": {},
   "outputs": [
    {
     "name": "stdout",
     "output_type": "stream",
     "text": [
      "[ 63  89 101]\n"
     ]
    }
   ],
   "source": [
    "import cv2\n",
    "\n",
    "img=cv2.imread('data/test1.jpg')\n",
    "# 픽셀의 좌표\n",
    "px=img[100,50]   ##### 테스트사진이 작은 사진이라서 100 50.    기본으로는 200 100으로 진행하셨음\n",
    "\n",
    "# BGR순으로 출력\n",
    "print(px)"
   ]
  },
  {
   "cell_type": "markdown",
   "id": "ecde76fc",
   "metadata": {},
   "source": [
    "# 픽셀값 변경"
   ]
  },
  {
   "cell_type": "code",
   "execution_count": 2,
   "id": "e6788afb",
   "metadata": {},
   "outputs": [],
   "source": [
    "#BGR값 한번에 변경\n",
    "import cv2\n",
    "\n",
    "img=cv2.imread('data/test1.jpg')\n",
    "\n",
    "img[100,50] = [0,0,0]\n",
    "\n",
    "cv2.imshow('test1',img)\n",
    "cv2.waitKey(0)\n",
    "cv2.destroyAllWindows()"
   ]
  },
  {
   "cell_type": "code",
   "execution_count": 3,
   "id": "4ddff730",
   "metadata": {},
   "outputs": [],
   "source": [
    "# B값 한번에 변경\n",
    "import cv2\n",
    "\n",
    "img=cv2.imread('data/test1.jpg')\n",
    "\n",
    "img[100,50,0] = 255\n",
    "img[101,50,0] = 255\n",
    "img[100,51,0] = 255\n",
    "img[101,51,0] = 255\n",
    "\n",
    "cv2.imshow('test1',img)\n",
    "cv2.waitKey(0)\n",
    "cv2.destroyAllWindows()"
   ]
  },
  {
   "cell_type": "markdown",
   "id": "aa8d17e8",
   "metadata": {},
   "source": [
    "# 이미지의 속성 출력"
   ]
  },
  {
   "cell_type": "code",
   "execution_count": 4,
   "id": "68c4cad6",
   "metadata": {
    "scrolled": true
   },
   "outputs": [
    {
     "name": "stdout",
     "output_type": "stream",
     "text": [
      "(168, 300, 3)\n",
      "151200\n",
      "uint8\n"
     ]
    }
   ],
   "source": [
    "print(img.shape)    ##### 세로 가로  색상채널\n",
    "print(img.size)\n",
    "print(img.dtype)\n",
    "# unint8 : 0~255         ##### mysql의 언사인드 int와 같은 원리같음  \n",
    "# int8 : -128 ~ 127"
   ]
  },
  {
   "cell_type": "markdown",
   "id": "fe1ae938",
   "metadata": {},
   "source": [
    "# ROI(Region of Image) 설정"
   ]
  },
  {
   "cell_type": "code",
   "execution_count": 5,
   "id": "774a910f",
   "metadata": {},
   "outputs": [],
   "source": [
    "###### ROI : 이미지의 영역 지역"
   ]
  },
  {
   "cell_type": "code",
   "execution_count": 6,
   "id": "c8d9db92",
   "metadata": {},
   "outputs": [],
   "source": [
    "#BGR값 한번에 변경\n",
    "import cv2\n",
    "\n",
    "img=cv2.imread('data/test1.jpg')\n",
    "\n",
    "\n",
    "#그림판 좌상단 (128,6)\n",
    "#그림판 우상단 (175,61)\n",
    "#           세로, 가로\n",
    "subimg=img[6:128,61:175];\n",
    "\n",
    "cv2.imshow('test1_face',subimg)\n",
    "cv2.waitKey(0)\n",
    "cv2.destroyAllWindows()"
   ]
  },
  {
   "cell_type": "markdown",
   "id": "27512b35",
   "metadata": {},
   "source": [
    "# 도형 그리기\n",
    "- cv2.circle : 원\n",
    "- cv2.rectangle : 사각형\n",
    "- cv2.elipse : 타원\n",
    "- cv2.line : 선\n",
    "- 사용 방법 (배경이미지, 좌표, 선 색상, 선 두께)"
   ]
  },
  {
   "cell_type": "markdown",
   "id": "0336eb4d",
   "metadata": {},
   "source": [
    "- cv2.putText(배경이미지, 출력내용, 출력시작좌표, 폰트, 크기, 색상, 굵기)"
   ]
  },
  {
   "cell_type": "code",
   "execution_count": 7,
   "id": "352ebf87",
   "metadata": {},
   "outputs": [],
   "source": [
    "#영어 출력\n",
    "import cv2\n",
    "\n",
    "img=cv2.imread('data/test1.jpg')\n",
    "img=cv2.rectangle(img,(128,6),(175,61),(0,0,255), 3 )  ##### 가로 세로 순서대로 적어야한다 \n",
    "#그림판 좌상단 (128,6)\n",
    "#그림판 우상단 (175,61)\n",
    "#           세로, 가로\n",
    "subimg=img[6:128,61:175];\n",
    "\n",
    "font = cv2.FONT_HERSHEY_SIMPLEX\n",
    "img=cv2.putText(img,\"Doctor\",(128,6),font,1,(255,0,0),4 )\n",
    "\n",
    "cv2.imshow('test1_face',img)\n",
    "cv2.waitKey(0)\n",
    "cv2.destroyAllWindows()"
   ]
  },
  {
   "cell_type": "code",
   "execution_count": 8,
   "id": "127f547f",
   "metadata": {},
   "outputs": [],
   "source": [
    "#한글 출력\n",
    "import cv2\n",
    "from PIL import ImageFont,ImageDraw, Image\n",
    "import numpy as np\n",
    "\n",
    "img=cv2.imread('data/test1.jpg')\n",
    "img=cv2.rectangle(img,(128,6),(175,61),(0,0,255), 3 )  ##### 가로 세로 순서대로 적어야한다 \n",
    "#그림판 좌상단 (128,6)\n",
    "#그림판 우상단 (175,61)\n",
    "#           세로, 가로\n",
    "subimg=img[6:128,61:175];\n",
    "\n",
    "#폰트와 폰트 크기 결정\n",
    "font = ImageFont.truetype(\"fonts/gulim.ttc\", 30)\n",
    "\n",
    "#이미지 변환\n",
    "img_pil=Image.fromarray(img)\n",
    "draw= ImageDraw.Draw(img_pil)\n",
    "\n",
    "#한글 출력\n",
    "#좌표,내용,폰트,색상 4가지를 사용\n",
    "draw.text( (60,61),\"Doctor\",font=font,fill=(255,0,0,0 )  )   ##### 마지막 값은 투명도라고 생각하면 된다고한다.RGBA \n",
    "\n",
    "#이미지 원상복구\n",
    "img=np.array(img_pil)\n",
    "\n",
    "cv2.imshow('test1_face',img)\n",
    "cv2.waitKey(0)\n",
    "cv2.destroyAllWindows()"
   ]
  },
  {
   "cell_type": "markdown",
   "id": "615c2451",
   "metadata": {},
   "source": [
    "# 이미지 영역값 변경"
   ]
  },
  {
   "cell_type": "code",
   "execution_count": 9,
   "id": "e3920d13",
   "metadata": {},
   "outputs": [],
   "source": [
    "import cv2\n",
    "import numpy as np\n",
    "\n",
    "img=cv2.imread('data/test1.jpg')\n",
    "mask=cv2.imread('data/mask.png')\n",
    "\n",
    "# mask 이미지를 붙일 위치의 배경이미지 잘라내기\n",
    "rows, cols, channels= mask.shape\n",
    "# 세로, 가로\n",
    "# 6,128 // 61,175\n",
    "roi=img[6:6+rows,128:128+cols];\n",
    "\n",
    "# 마스크 이미지 만들기\n",
    "mask2gray=cv2.cvtColor(mask, cv2.COLOR_BGR2GRAY)  ##### 배경인 부분 배경이 아닌 구분을 구분하기 위한 처리\n",
    "ret,mask_b=cv2.threshold(mask2gray,200,255, cv2.THRESH_BINARY)\n",
    "\n",
    "#마스크 이미지 반전\n",
    "# 흑백전환\n",
    "# 0>255 , 255>0\n",
    "mask_b_inv=cv2.bitwise_not(mask_b)\n",
    "\n",
    "#호랑이 이미지에서 마스크 부분만 추출\n",
    "#마스크 : 배경을 제외한 부분\n",
    "img_bg=cv2.bitwise_and(roi,roi,mask=mask_b)\n",
    "img_fg=cv2.bitwise_and(mask,mask,mask=mask_b_inv)\n",
    "\n",
    "# ROI 이미지에 마스크 이미지 합치기\n",
    "bg_fg=cv2.add(img_bg,img_fg)\n",
    "\n",
    "#배경이미지에 해당위치에 합한 이미지 붙이기\n",
    "img[6:6+rows,128:128+cols]=bg_fg\n",
    "\n",
    "#cv2.imshow('1.doctor',img)\n",
    "#cv2.imshow('2.tiger',mask)\n",
    "#cv2.imshow('3.roi',roi)\n",
    "#cv2.imshow('4.mask_gray',mask2gray)\n",
    "#cv2.imshow('5.mask_bin',mask_b)\n",
    "#cv2.imshow('6.mask_bin_inv',mask_b_inv)\n",
    "#cv2.imshow('7.mask_bg', img_bg)\n",
    "#cv2.imshow('8.mask_fg', img_fg)\n",
    "#cv2.imshow('9.bg_fg', bg_fg)\n",
    "cv2.imshow('10.result',img)\n",
    "\n",
    "\n",
    "cv2.waitKey(0)\n",
    "cv2.destroyAllWindows()"
   ]
  },
  {
   "cell_type": "markdown",
   "id": "bcc5ce7d",
   "metadata": {},
   "source": [
    "# 색상 추적하기\n",
    "- HSV 색상체계 \n",
    "- 색상(H), 채도(S), 명도(V)\n",
    "- 채도 : 색상의 선명한 정도.  채도가 낮으면 탁하다. 채도가 높으면 선명하다          쨍하다라는 표현 \n",
    "- 명도 : 색의 밝은 정도.  명도가 가장 높으면 흰색(처럼 보인다).  명도가 가장 낮으면 검은색(처럼 보인다.) 빛이 개입한다\n"
   ]
  },
  {
   "cell_type": "code",
   "execution_count": 19,
   "id": "a66385f5",
   "metadata": {},
   "outputs": [],
   "source": [
    "import cv2\n",
    "import numpy as np\n",
    "#BGR로 가져옴\n",
    "img=cv2.imread('data/balloon.jfif')\n",
    "cv2.imshow('original',img)\n",
    "\n",
    "#HSV로 변경\n",
    "hsv=cv2.cvtColor(img, cv2.COLOR_BGR2HSV)\n",
    "cv2.imshow('hsv',hsv)\n",
    "#주황색\n",
    "#lower=np.array([20,100,100])\n",
    "#upper=np.array([50,255,255])\n",
    "#초록색\n",
    "lower=np.array([50,100,100])\n",
    "upper=np.array([80,255,255])\n",
    "#hsv 안에서 lower ~ upper 사이에 값이 아니면 전부다 0으로 채움\n",
    "mask=cv2.inRange(hsv,lower,upper)\n",
    "img2=cv2.bitwise_and(img,img,mask=mask)\n",
    "\n",
    "cv2.imshow('red',img2)\n",
    "cv2.waitKey(0)\n",
    "cv2.destroyAllWindows()\n"
   ]
  },
  {
   "cell_type": "code",
   "execution_count": null,
   "id": "243b38b2",
   "metadata": {},
   "outputs": [],
   "source": []
  }
 ],
 "metadata": {
  "kernelspec": {
   "display_name": "Python 3 (ipykernel)",
   "language": "python",
   "name": "python3"
  },
  "language_info": {
   "codemirror_mode": {
    "name": "ipython",
    "version": 3
   },
   "file_extension": ".py",
   "mimetype": "text/x-python",
   "name": "python",
   "nbconvert_exporter": "python",
   "pygments_lexer": "ipython3",
   "version": "3.7.13"
  }
 },
 "nbformat": 4,
 "nbformat_minor": 5
}
