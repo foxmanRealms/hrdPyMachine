{
 "cells": [
  {
   "cell_type": "code",
   "execution_count": 1,
   "id": "98d205d0",
   "metadata": {},
   "outputs": [],
   "source": [
    "import os, os.path, shutil\n",
    "import zipfile\n",
    "%matplotlib inline\n",
    "\n",
    "import matplotlib.pyplot as plt\n",
    "import matplotlib.image as mpimg"
   ]
  },
  {
   "cell_type": "code",
   "execution_count": 2,
   "id": "167fed07",
   "metadata": {},
   "outputs": [],
   "source": [
    "# 압축을 풀어주는 코드\n",
    "\n",
    "local_zip = './data/dogs-vs-cats.zip'   ##### 집파일 인식\n",
    "zip_ref = zipfile.ZipFile(local_zip, 'r')\n",
    "zip_ref.extractall('./data')\n",
    "zip_ref.close()"
   ]
  },
  {
   "cell_type": "code",
   "execution_count": 3,
   "id": "90eb29ed",
   "metadata": {},
   "outputs": [],
   "source": [
    "local_zip = './data/train.zip'\n",
    "zip_ref = zipfile.ZipFile(local_zip, 'r')\n",
    "zip_ref.extractall('./data/')\n",
    "zip_ref.close()"
   ]
  },
  {
   "cell_type": "code",
   "execution_count": 4,
   "id": "96ef4ed6",
   "metadata": {},
   "outputs": [],
   "source": [
    "local_zip = './data/test1.zip'\n",
    "zip_ref = zipfile.ZipFile(local_zip, 'r')\n",
    "zip_ref.extractall('./data/')\n",
    "zip_ref.close()"
   ]
  },
  {
   "cell_type": "markdown",
   "id": "a9a5b322",
   "metadata": {},
   "source": [
    "# 사진 선별하기"
   ]
  },
  {
   "cell_type": "code",
   "execution_count": 5,
   "id": "f6161dcf",
   "metadata": {},
   "outputs": [],
   "source": [
    "# 원본 데이터셋을 압축 해제한 디렉터리 경로\n",
    "original_dataset_dir = './data/train'\n",
    "\n",
    "# 소규모 데이터셋을 저장할 디렉터리\n",
    "base_dir = './data/cats_and_dogs_small'\n",
    "#os.mkdir(base_dir)\n",
    "\n",
    "# 훈련, 검증, 테스트 분할을 위한 디렉터리\n",
    "train_dir = os.path.join(base_dir, 'train')\n",
    "#os.mkdir(train_dir)\n",
    "validation_dir = os.path.join(base_dir, 'validation')\n",
    "#os.mkdir(validation_dir)\n",
    "test_dir = os.path.join(base_dir, 'test')\n",
    "#os.mkdir(test_dir)\n",
    "\n",
    "# 훈련용 고양이 사진 디렉터리\n",
    "train_cats_dir = os.path.join(train_dir, 'cats')\n",
    "#os.mkdir(train_cats_dir)\n",
    "\n",
    "# 훈련용 강아지 사진 디렉터리\n",
    "train_dogs_dir = os.path.join(train_dir, 'dogs')\n",
    "#os.mkdir(train_dogs_dir)\n",
    "\n",
    "# 검증용 고양이 사진 디렉터리\n",
    "validation_cats_dir = os.path.join(validation_dir, 'cats')\n",
    "#os.mkdir(validation_cats_dir)\n",
    "\n",
    "# 검증용 강아지 사진 디렉터리\n",
    "validation_dogs_dir = os.path.join(validation_dir, 'dogs')\n",
    "#os.mkdir(validation_dogs_dir)\n",
    "\n",
    "# 테스트용 고양이 사진 디렉터리\n",
    "test_cats_dir = os.path.join(test_dir, 'cats')\n",
    "#os.mkdir(test_cats_dir)\n",
    "\n",
    "# 테스트용 강아지 사진 디렉터리\n",
    "test_dogs_dir = os.path.join(test_dir, 'dogs')\n",
    "#os.mkdir(test_dogs_dir)"
   ]
  },
  {
   "cell_type": "code",
   "execution_count": 6,
   "id": "2dff6d88",
   "metadata": {},
   "outputs": [],
   "source": [
    "# 처음 1,000개의 고양이 이미지를 train_cats_dir에 복사\n",
    "fnames = ['cat.{}.jpg'.format(i) for i in range(1000)]\n",
    "for fname in fnames:\n",
    "    src = os.path.join(original_dataset_dir, fname)\n",
    "    dst = os.path.join(train_cats_dir, fname)\n",
    "    shutil.copyfile(src, dst)\n",
    "\n",
    "# 다음 500개 고양이 이미지를 validation_cats_dir에 복사\n",
    "fnames = ['cat.{}.jpg'.format(i) for i in range(1000, 1500)]\n",
    "for fname in fnames:\n",
    "    src = os.path.join(original_dataset_dir, fname)\n",
    "    dst = os.path.join(validation_cats_dir, fname)\n",
    "    shutil.copyfile(src, dst)\n",
    "    \n",
    "# 다음 500개 고양이 이미지를 test_cats_dir에 복사\n",
    "fnames = ['cat.{}.jpg'.format(i) for i in range(1500, 2000)]\n",
    "for fname in fnames:\n",
    "    src = os.path.join(original_dataset_dir, fname)\n",
    "    dst = os.path.join(test_cats_dir, fname)\n",
    "    shutil.copyfile(src, dst)\n",
    "    \n",
    "# 처음 1,000개의 강아지 이미지를 train_dogs_dir에 복사\n",
    "fnames = ['dog.{}.jpg'.format(i) for i in range(1000)]\n",
    "for fname in fnames:\n",
    "    src = os.path.join(original_dataset_dir, fname)\n",
    "    dst = os.path.join(train_dogs_dir, fname)\n",
    "    shutil.copyfile(src, dst)\n",
    "    \n",
    "# 다음 500개 강아지 이미지를 validation_dogs_dir에 복사\n",
    "fnames = ['dog.{}.jpg'.format(i) for i in range(1000, 1500)]\n",
    "for fname in fnames:\n",
    "    src = os.path.join(original_dataset_dir, fname)\n",
    "    dst = os.path.join(validation_dogs_dir, fname)\n",
    "    shutil.copyfile(src, dst)\n",
    "    \n",
    "# 다음 500개 강아지 이미지를 test_dogs_dir에 복사\n",
    "fnames = ['dog.{}.jpg'.format(i) for i in range(1500, 2000)]\n",
    "for fname in fnames:\n",
    "    src = os.path.join(original_dataset_dir, fname)\n",
    "    dst = os.path.join(test_dogs_dir, fname)\n",
    "    shutil.copyfile(src, dst)"
   ]
  },
  {
   "cell_type": "code",
   "execution_count": 7,
   "id": "54df45fe",
   "metadata": {},
   "outputs": [
    {
     "name": "stdout",
     "output_type": "stream",
     "text": [
      "훈련용 고양이 이미지 전체 개수: 1000\n",
      "훈련용 강아지 이미지 전체 개수: 1000\n",
      "검증용 고양이 이미지 전체 개수: 500\n",
      "검증용 강아지 이미지 전체 개수: 500\n",
      "테스트용 고양이 이미지 전체 개수: 500\n",
      "테스트용 강아지 이미지 전체 개수: 500\n"
     ]
    }
   ],
   "source": [
    "print('훈련용 고양이 이미지 전체 개수:', len(os.listdir(train_cats_dir)))\n",
    "print('훈련용 강아지 이미지 전체 개수:', len(os.listdir(train_dogs_dir)))\n",
    "print('검증용 고양이 이미지 전체 개수:', len(os.listdir(validation_cats_dir)))\n",
    "print('검증용 강아지 이미지 전체 개수:', len(os.listdir(validation_dogs_dir)))\n",
    "print('테스트용 고양이 이미지 전체 개수:', len(os.listdir(test_cats_dir)))\n",
    "print('테스트용 강아지 이미지 전체 개수:', len(os.listdir(test_dogs_dir)))"
   ]
  },
  {
   "cell_type": "markdown",
   "id": "e078cac4",
   "metadata": {},
   "source": [
    "# 하나의 변수에 사진 집어넣기"
   ]
  },
  {
   "cell_type": "code",
   "execution_count": 8,
   "id": "dcbd6d74",
   "metadata": {},
   "outputs": [
    {
     "name": "stdout",
     "output_type": "stream",
     "text": [
      "Found 2000 images belonging to 2 classes.\n",
      "Found 1000 images belonging to 2 classes.\n"
     ]
    }
   ],
   "source": [
    "#이미지 전처리용 라이브러리\n",
    "from tensorflow.keras.preprocessing.image import ImageDataGenerator\n",
    "\n",
    "# 0~255 > 0~1 까지로 변환 \n",
    "train_datagen=ImageDataGenerator(rescale=1./255)\n",
    "test_datagen=ImageDataGenerator(rescale=1./255)\n",
    "val_datagen=ImageDataGenerator(rescale=1./255)\n",
    "\n",
    "#flow_from_directory() 해당 폴더의 데이터를 전처리\n",
    "#(폴더경로, 변경할 이미지 크기, 한번에 변경할 개수, 라벨링 모드)\n",
    "# 라벨링 모드 : categorical, binary       ##### 주로 카테고리컬을 많이 쓰게 될 것이다.\n",
    "#####바이너리,  카테고리컬 ,???   3가지가 있다고한다\n",
    "train_generator=train_datagen.flow_from_directory(\n",
    "                train_dir,\n",
    "                target_size=(150,150),  # 150 *150으로 이미지 크기 변경\n",
    "                batch_size=20, # 한번에 20개씩 전처리\n",
    "                class_mode='categorical'\n",
    ")\n",
    "\n",
    "val_generator=val_datagen.flow_from_directory(\n",
    "                validation_dir,\n",
    "                target_size=(150,150),  # 150 *150으로 이미지 크기 변경\n",
    "                batch_size=20, # 한번에 20개씩 전처리\n",
    "                class_mode='categorical'\n",
    ")\n"
   ]
  },
  {
   "cell_type": "code",
   "execution_count": 9,
   "id": "80f86dcd",
   "metadata": {},
   "outputs": [
    {
     "data": {
      "text/plain": [
       "{'cats': 0, 'dogs': 1}"
      ]
     },
     "execution_count": 9,
     "metadata": {},
     "output_type": "execute_result"
    }
   ],
   "source": [
    "#할당된 정답 확인  ##### 알파벳순으로 라벨이 달리게 된다\n",
    "train_generator.class_indices"
   ]
  },
  {
   "cell_type": "markdown",
   "id": "fed10459",
   "metadata": {},
   "source": [
    "# 전이학습\n",
    "- 이미 만들어진 모델 가져와서 사용하기 "
   ]
  },
  {
   "cell_type": "code",
   "execution_count": 10,
   "id": "be122102",
   "metadata": {},
   "outputs": [],
   "source": [
    "# VGG16 다운로드 - 전이학습 모델   ##### 빠르고 정확하게 가 모델들의 목적이다.  목적이 달성되면 이름이 붙게된다\n",
    "from tensorflow.keras.applications import VGG16\n",
    "\n",
    "#특징 추출부만 가져오기\n",
    "conv_base=VGG16(weights='imagenet',#개/고양이 분류 모델의 가중치 가져오기 \n",
    "                include_top=False, #분류기는 제외하고 가져오겠다\n",
    "                input_shape=(150,150,3)\n",
    "               )   "
   ]
  },
  {
   "cell_type": "code",
   "execution_count": 11,
   "id": "c0e4ed71",
   "metadata": {
    "collapsed": true
   },
   "outputs": [
    {
     "name": "stdout",
     "output_type": "stream",
     "text": [
      "Model: \"vgg16\"\n",
      "_________________________________________________________________\n",
      "Layer (type)                 Output Shape              Param #   \n",
      "=================================================================\n",
      "input_1 (InputLayer)         [(None, 150, 150, 3)]     0         \n",
      "_________________________________________________________________\n",
      "block1_conv1 (Conv2D)        (None, 150, 150, 64)      1792      \n",
      "_________________________________________________________________\n",
      "block1_conv2 (Conv2D)        (None, 150, 150, 64)      36928     \n",
      "_________________________________________________________________\n",
      "block1_pool (MaxPooling2D)   (None, 75, 75, 64)        0         \n",
      "_________________________________________________________________\n",
      "block2_conv1 (Conv2D)        (None, 75, 75, 128)       73856     \n",
      "_________________________________________________________________\n",
      "block2_conv2 (Conv2D)        (None, 75, 75, 128)       147584    \n",
      "_________________________________________________________________\n",
      "block2_pool (MaxPooling2D)   (None, 37, 37, 128)       0         \n",
      "_________________________________________________________________\n",
      "block3_conv1 (Conv2D)        (None, 37, 37, 256)       295168    \n",
      "_________________________________________________________________\n",
      "block3_conv2 (Conv2D)        (None, 37, 37, 256)       590080    \n",
      "_________________________________________________________________\n",
      "block3_conv3 (Conv2D)        (None, 37, 37, 256)       590080    \n",
      "_________________________________________________________________\n",
      "block3_pool (MaxPooling2D)   (None, 18, 18, 256)       0         \n",
      "_________________________________________________________________\n",
      "block4_conv1 (Conv2D)        (None, 18, 18, 512)       1180160   \n",
      "_________________________________________________________________\n",
      "block4_conv2 (Conv2D)        (None, 18, 18, 512)       2359808   \n",
      "_________________________________________________________________\n",
      "block4_conv3 (Conv2D)        (None, 18, 18, 512)       2359808   \n",
      "_________________________________________________________________\n",
      "block4_pool (MaxPooling2D)   (None, 9, 9, 512)         0         \n",
      "_________________________________________________________________\n",
      "block5_conv1 (Conv2D)        (None, 9, 9, 512)         2359808   \n",
      "_________________________________________________________________\n",
      "block5_conv2 (Conv2D)        (None, 9, 9, 512)         2359808   \n",
      "_________________________________________________________________\n",
      "block5_conv3 (Conv2D)        (None, 9, 9, 512)         2359808   \n",
      "_________________________________________________________________\n",
      "block5_pool (MaxPooling2D)   (None, 4, 4, 512)         0         \n",
      "=================================================================\n",
      "Total params: 14,714,688\n",
      "Trainable params: 14,714,688\n",
      "Non-trainable params: 0\n",
      "_________________________________________________________________\n"
     ]
    }
   ],
   "source": [
    "conv_base.summary()"
   ]
  },
  {
   "cell_type": "markdown",
   "id": "e6c4a9c1",
   "metadata": {},
   "source": [
    "# 모델 설계"
   ]
  },
  {
   "cell_type": "code",
   "execution_count": 12,
   "id": "34da921e",
   "metadata": {},
   "outputs": [],
   "source": [
    "from tensorflow.keras.models import Sequential\n",
    "from tensorflow.keras.layers import Dense, Flatten\n",
    "\n",
    "model = Sequential() ##### 모델을 생성해야한다 \n",
    "\n",
    "model.add(conv_base) #특징추출부 더하기           #### 층을 추가한다. 층을 쌓는다\n",
    "\n",
    "model.add(Flatten() ) # 특징추출부와 분류부를 이어주는 층 더하기\n",
    "\n",
    "#분류부 설계\n",
    "model.add(Dense(units=256, activation='relu')  )\n",
    "model.add(Dense(units=2, activation='softmax')  )  ##### 1층을 더 쌓았다\n",
    "#액티베이션 방법  sigmoid, linear, relu, softmax 등 등\n"
   ]
  },
  {
   "cell_type": "code",
   "execution_count": 13,
   "id": "39eaad12",
   "metadata": {
    "collapsed": true
   },
   "outputs": [
    {
     "name": "stdout",
     "output_type": "stream",
     "text": [
      "Model: \"sequential\"\n",
      "_________________________________________________________________\n",
      "Layer (type)                 Output Shape              Param #   \n",
      "=================================================================\n",
      "vgg16 (Model)                (None, 4, 4, 512)         14714688  \n",
      "_________________________________________________________________\n",
      "flatten (Flatten)            (None, 8192)              0         \n",
      "_________________________________________________________________\n",
      "dense (Dense)                (None, 256)               2097408   \n",
      "_________________________________________________________________\n",
      "dense_1 (Dense)              (None, 2)                 514       \n",
      "=================================================================\n",
      "Total params: 16,812,610\n",
      "Trainable params: 16,812,610\n",
      "Non-trainable params: 0\n",
      "_________________________________________________________________\n"
     ]
    }
   ],
   "source": [
    "model.summary()"
   ]
  },
  {
   "cell_type": "code",
   "execution_count": 14,
   "id": "8f3c5996",
   "metadata": {},
   "outputs": [],
   "source": [
    "# 전이학습\n",
    "# 모델의 구조, 모델의 가중치 를 가져오게된다\n",
    "# 동결 - 모델의 가중치가 수정되는 것을 막음.   #####  막지 않으면 전이학습을 한 의미가 사라지게 되서 작업이 중요하다"
   ]
  },
  {
   "cell_type": "code",
   "execution_count": 15,
   "id": "2ffc20f7",
   "metadata": {},
   "outputs": [
    {
     "name": "stdout",
     "output_type": "stream",
     "text": [
      "30\n",
      "4\n"
     ]
    }
   ],
   "source": [
    "# 하나의 층마다 학습되는 가중치는 2개(w,b)  웨이트와 바이어스 \n",
    "print(len (model.trainable_weights ) )   #학습되는 가중치수\n",
    "conv_base.trainable=False   # 동결\n",
    "print(len (model.trainable_weights ) )   ##### 4가 나오면 정상이다 학습이 가능한 층이 2개니까 2+2 4  학습이 가능한 총 층이 15층이라서 동결하지 않으면 30이 나온다"
   ]
  },
  {
   "cell_type": "markdown",
   "id": "75058707",
   "metadata": {},
   "source": [
    "# 컴파일\n",
    "- 학습 환경 설정\n",
    "- loss, optimizer, metrics\n",
    "\n",
    "- loss : 결과에 대한 오차 \n",
    "- optimizer : 어떻게 오차를 줄여나갈 것인지.   오차를 줄일 방법\n",
    "    - SGD, momentum, rmsprop, adam, nadam 등등\n",
    "- metrics : 결과를 표시할 방법              #~  정확도 정밀도  재현율  등등 다양하다 "
   ]
  },
  {
   "cell_type": "code",
   "execution_count": 16,
   "id": "1a928846",
   "metadata": {},
   "outputs": [],
   "source": [
    "model.compile(loss='categorical_crossentropy',\n",
    "             optimizer= 'rmsprop',  # rmsprop, adam\n",
    "             metrics=['accuracy'])  # 분류: accuracy ,  회귀 : mean_squared_error"
   ]
  },
  {
   "cell_type": "markdown",
   "id": "b1d3a6ce",
   "metadata": {},
   "source": [
    "# 학습 "
   ]
  },
  {
   "cell_type": "code",
   "execution_count": 17,
   "id": "3bbd1fde",
   "metadata": {},
   "outputs": [
    {
     "name": "stdout",
     "output_type": "stream",
     "text": [
      "WARNING:tensorflow:sample_weight modes were coerced from\n",
      "  ...\n",
      "    to  \n",
      "  ['...']\n",
      "WARNING:tensorflow:sample_weight modes were coerced from\n",
      "  ...\n",
      "    to  \n",
      "  ['...']\n",
      "Train for 100 steps, validate for 50 steps\n",
      "Epoch 1/5\n",
      "100/100 - 111s - loss: 0.9086 - accuracy: 0.7505 - val_loss: 0.4323 - val_accuracy: 0.7920\n",
      "Epoch 2/5\n",
      "100/100 - 109s - loss: 0.3436 - accuracy: 0.8555 - val_loss: 0.2804 - val_accuracy: 0.8940\n",
      "Epoch 3/5\n",
      "100/100 - 104s - loss: 0.2615 - accuracy: 0.9010 - val_loss: 0.6797 - val_accuracy: 0.7420\n",
      "Epoch 4/5\n",
      "100/100 - 106s - loss: 0.2314 - accuracy: 0.9135 - val_loss: 0.3467 - val_accuracy: 0.8830\n",
      "Epoch 5/5\n",
      "100/100 - 102s - loss: 0.2020 - accuracy: 0.9205 - val_loss: 0.2919 - val_accuracy: 0.9090\n"
     ]
    }
   ],
   "source": [
    "history= model.fit(train_generator, # 학습데이터\n",
    "                  steps_per_epoch=100, # 100개단위로 학습하라\n",
    "                  epochs=5, # 학습할 횟수\n",
    "                   validation_data=val_generator,\n",
    "                   validation_steps=50,\n",
    "                   verbose=2  # 학습과정 확인\n",
    "                  )"
   ]
  },
  {
   "cell_type": "code",
   "execution_count": 18,
   "id": "f8bb014d",
   "metadata": {},
   "outputs": [
    {
     "data": {
      "image/png": "[encoded data removed]",
      "text/plain": [
       "<Figure size 432x288 with 1 Axes>"
      ]
     },
     "metadata": {
      "needs_background": "light"
     },
     "output_type": "display_data"
    },
    {
     "data": {
      "image/png": "[encoded data removed]",
      "text/plain": [
       "<Figure size 432x288 with 1 Axes>"
      ]
     },
     "metadata": {
      "needs_background": "light"
     },
     "output_type": "display_data"
    }
   ],
   "source": [
    "accuracy = history.history['accuracy']\n",
    "val_accuracy = history.history['val_accuracy']\n",
    "loss = history.history['loss']\n",
    "val_loss = history.history['val_loss']\n",
    "\n",
    "epochs = range(len(accuracy))\n",
    "\n",
    "plt.plot(epochs, accuracy, 'bo', label='Training accuracy')\n",
    "plt.plot(epochs, val_accuracy, 'b', label='Validation accuracy')\n",
    "plt.title('Training and validation accuracyuracy')\n",
    "plt.legend()\n",
    "\n",
    "plt.figure()\n",
    "\n",
    "plt.plot(epochs, loss, 'bo', label='Training loss')\n",
    "plt.plot(epochs, val_loss, 'b', label='Validation loss')\n",
    "plt.title('Training and validation loss')\n",
    "plt.legend()\n",
    "\n",
    "plt.show()"
   ]
  },
  {
   "cell_type": "markdown",
   "id": "d8aa18d4",
   "metadata": {},
   "source": [
    "# 결과확인"
   ]
  },
  {
   "cell_type": "code",
   "execution_count": 19,
   "id": "badcf23d",
   "metadata": {},
   "outputs": [
    {
     "name": "stdout",
     "output_type": "stream",
     "text": [
      "Found 1000 images belonging to 2 classes.\n"
     ]
    }
   ],
   "source": [
    "test_generator = test_datagen.flow_from_directory(\n",
    "        test_dir,\n",
    "        target_size=(150, 150),\n",
    "        batch_size=20,\n",
    "        class_mode='categorical')"
   ]
  },
  {
   "cell_type": "code",
   "execution_count": 20,
   "id": "8c23b8fa",
   "metadata": {},
   "outputs": [
    {
     "name": "stdout",
     "output_type": "stream",
     "text": [
      "WARNING:tensorflow:From C:\\Users\\smhrd\\AppData\\Local\\Temp\\ipykernel_9724\\1740652944.py:1: Model.evaluate_generator (from tensorflow.python.keras.engine.training) is deprecated and will be removed in a future version.\n",
      "Instructions for updating:\n",
      "Please use Model.evaluate, which supports generators.\n",
      "WARNING:tensorflow:sample_weight modes were coerced from\n",
      "  ...\n",
      "    to  \n",
      "  ['...']\n",
      "WARNING:tensorflow:From C:\\Users\\smhrd\\AppData\\Local\\Temp\\ipykernel_9724\\1740652944.py:2: Model.predict_generator (from tensorflow.python.keras.engine.training) is deprecated and will be removed in a future version.\n",
      "Instructions for updating:\n",
      "Please use Model.predict, which supports generators.\n"
     ]
    }
   ],
   "source": [
    "test_loss, test_acc=model.evaluate_generator(test_generator, steps=50)\n",
    "test_prediction= model.predict_generator(test_generator,steps=50)"
   ]
  },
  {
   "cell_type": "code",
   "execution_count": 21,
   "id": "fe22d103",
   "metadata": {},
   "outputs": [
    {
     "name": "stdout",
     "output_type": "stream",
     "text": [
      "0.882\n",
      "0.3058461622148752\n"
     ]
    }
   ],
   "source": [
    "print(test_acc)\n",
    "print(test_loss)"
   ]
  },
  {
   "cell_type": "code",
   "execution_count": 22,
   "id": "01387ac4",
   "metadata": {},
   "outputs": [
    {
     "data": {
      "text/plain": [
       "array([[9.9990642e-01, 9.3612172e-05],\n",
       "       [7.4362457e-02, 9.2563754e-01],\n",
       "       [4.2394777e-09, 1.0000000e+00],\n",
       "       ...,\n",
       "       [9.9100751e-01, 8.9924708e-03],\n",
       "       [9.9778050e-01, 2.2194814e-03],\n",
       "       [1.0245850e-03, 9.9897540e-01]], dtype=float32)"
      ]
     },
     "execution_count": 22,
     "metadata": {},
     "output_type": "execute_result"
    }
   ],
   "source": [
    "test_prediction  ##### 가지고 있는 의미 : 2개가 한쌍. 앞이 고양이 확률 뒤가 강아지 확률\n",
    "#test_prediction.shape"
   ]
  },
  {
   "cell_type": "code",
   "execution_count": 23,
   "id": "fd09c55c",
   "metadata": {},
   "outputs": [
    {
     "name": "stdout",
     "output_type": "stream",
     "text": [
      "cats\\cat.1000.jpg\n",
      "['O' 'X']\n",
      "cats\\cat.1001.jpg\n",
      "['X' 'O']\n",
      "cats\\cat.1002.jpg\n",
      "['X' 'O']\n",
      "cats\\cat.1003.jpg\n",
      "['O' 'X']\n",
      "cats\\cat.1004.jpg\n",
      "['O' 'X']\n",
      "cats\\cat.1005.jpg\n",
      "['O' 'X']\n",
      "cats\\cat.1006.jpg\n",
      "['O' 'X']\n",
      "cats\\cat.1007.jpg\n",
      "['O' 'X']\n",
      "cats\\cat.1008.jpg\n",
      "['O' 'X']\n",
      "cats\\cat.1009.jpg\n",
      "['O' 'X']\n",
      "cats\\cat.1010.jpg\n",
      "['O' 'X']\n",
      "cats\\cat.1011.jpg\n",
      "['O' 'X']\n",
      "cats\\cat.1012.jpg\n",
      "['O' 'X']\n",
      "cats\\cat.1013.jpg\n",
      "['X' 'O']\n",
      "cats\\cat.1014.jpg\n",
      "['X' 'O']\n",
      "cats\\cat.1015.jpg\n",
      "['X' 'O']\n",
      "cats\\cat.1016.jpg\n",
      "['X' 'O']\n",
      "cats\\cat.1017.jpg\n",
      "['X' 'O']\n",
      "cats\\cat.1018.jpg\n",
      "['X' 'O']\n",
      "cats\\cat.1019.jpg\n",
      "['X' 'O']\n"
     ]
    }
   ],
   "source": [
    "import numpy as np\n",
    "\n",
    "prediction = np.where(test_prediction > .5, \"O\", \"X\")\n",
    "\n",
    "for i in range(20):\n",
    "  print(val_generator.filenames[i])\n",
    "  print(prediction[i])"
   ]
  },
  {
   "cell_type": "markdown",
   "id": "ea0821bb",
   "metadata": {},
   "source": [
    "# 데이터 증식\n",
    "- data argmentation\n",
    "- 장점 : 거의 성능은 좋아짐\n",
    "- 단점 : 데이터를 증강하는 패턴이 정해져있음\n",
    "        - 장점이 더 크기 때문에 시간이 충분히 주어진다면 증식시키는 것이 좋다\n",
    "- 훈련데이터만 증식"
   ]
  },
  {
   "cell_type": "code",
   "execution_count": 24,
   "id": "5fc132b9",
   "metadata": {},
   "outputs": [],
   "source": [
    "# 훈련데이터만 증식\n",
    "train_gen = ImageDataGenerator (\n",
    "    rescale = 1./255,\n",
    "    rotation_range = 20,\n",
    "    width_shift_range = 0.2,\n",
    "    height_shift_range = 0.1,\n",
    "    shear_range = 0.1,\n",
    "    zoom_range = 0.1,\n",
    "    horizontal_flip = True,\n",
    "    fill_mode = \"nearest\"    ##### 가까이 있는 데이터로 빈 곳을 채우겠다는 뜻.  회전 등의 과정에서 생기는 빈칸\n",
    ")"
   ]
  },
  {
   "cell_type": "code",
   "execution_count": 25,
   "id": "5be1043c",
   "metadata": {},
   "outputs": [
    {
     "name": "stdout",
     "output_type": "stream",
     "text": [
      "Found 2000 images belonging to 2 classes.\n"
     ]
    }
   ],
   "source": [
    "train_generator = train_datagen.flow_from_directory(\n",
    "                    train_dir,\n",
    "                    target_size = (150,150), # 150*150으로 이미지 크기 변경\n",
    "                    batch_size = 20, # 한번에 20개씩 전처리\n",
    "                    class_mode = 'categorical' # 원핫인코딩 진행\n",
    ")"
   ]
  },
  {
   "cell_type": "code",
   "execution_count": null,
   "id": "905ec5b3",
   "metadata": {},
   "outputs": [],
   "source": []
  },
  {
   "cell_type": "code",
   "execution_count": 26,
   "id": "26fd234c",
   "metadata": {},
   "outputs": [
    {
     "name": "stdout",
     "output_type": "stream",
     "text": [
      "30\n",
      "4\n",
      "WARNING:tensorflow:sample_weight modes were coerced from\n",
      "  ...\n",
      "    to  \n",
      "  ['...']\n",
      "WARNING:tensorflow:sample_weight modes were coerced from\n",
      "  ...\n",
      "    to  \n",
      "  ['...']\n",
      "Train for 100 steps, validate for 50 steps\n",
      "Epoch 1/5\n",
      "100/100 - 102s - loss: 0.8257 - accuracy: 0.7675 - val_loss: 0.4664 - val_accuracy: 0.7980\n",
      "Epoch 2/5\n",
      "100/100 - 107s - loss: 0.3775 - accuracy: 0.8540 - val_loss: 0.3228 - val_accuracy: 0.8740\n",
      "Epoch 3/5\n",
      "100/100 - 109s - loss: 0.2636 - accuracy: 0.8970 - val_loss: 0.5105 - val_accuracy: 0.7830\n",
      "Epoch 4/5\n",
      "100/100 - 107s - loss: 0.2351 - accuracy: 0.8995 - val_loss: 0.2715 - val_accuracy: 0.9040\n",
      "Epoch 5/5\n",
      "100/100 - 104s - loss: 0.1483 - accuracy: 0.9410 - val_loss: 0.2967 - val_accuracy: 0.9080\n"
     ]
    }
   ],
   "source": [
    "# VGG16 다운로드 - 전이학습 모델\n",
    "from tensorflow.keras.applications import VGG16\n",
    "\n",
    "# 특징 추출부만 가져오기\n",
    "conv_base = VGG16(weights = 'imagenet',# 개/고양이 분류 모델의 가중치 가져오기\n",
    "                  include_top = False, # 분류기는 제외하고 가져오겠다\n",
    "                  input_shape = (150,150,3)                  \n",
    "                 )\n",
    "\n",
    "from tensorflow.keras.models import Sequential\n",
    "from tensorflow.keras.layers import Dense, Flatten\n",
    "\n",
    "model = Sequential()\n",
    "\n",
    "model.add(conv_base) # 특징추출부 더하기\n",
    "\n",
    "model.add(Flatten()) # 특징추출부와 분류부를 이어주는 층 더하기\n",
    "\n",
    "# 분류부 설계\n",
    "model.add(Dense(units = 256, activation = 'relu'))\n",
    "model.add(Dense(units = 2, activation = 'softmax'))\n",
    "\n",
    "# 하나의 층마다 학습되는 가중치는 2개(w,b)\n",
    "print(len(model.trainable_weights))# 학습되는 가중치수\n",
    "conv_base.trainable = False # 동결\n",
    "print(len(model.trainable_weights))\n",
    "\n",
    "model.compile(loss = 'categorical_crossentropy',\n",
    "             optimizer = 'rmsprop', # rmsprop, adam\n",
    "             metrics = ['accuracy']) # 분류 : accuracy, 회귀 : mean_squeard_error\n",
    "\n",
    "history = model.fit(train_generator,# 학습 데이터\n",
    "                    steps_per_epoch = 100, # 100개 단위로 학습\n",
    "                    epochs = 5, # 학습할 횟수\n",
    "                    validation_data = val_generator,\n",
    "                    validation_steps = 50,\n",
    "                    verbose = 2 # 학습 과정 확인\n",
    "                   )"
   ]
  },
  {
   "cell_type": "code",
   "execution_count": 27,
   "id": "d2b0db6a",
   "metadata": {},
   "outputs": [
    {
     "data": {
      "image/png": "[encoded data removed]",
      "text/plain": [
       "<Figure size 432x288 with 1 Axes>"
      ]
     },
     "metadata": {
      "needs_background": "light"
     },
     "output_type": "display_data"
    },
    {
     "data": {
      "image/png": "[encoded data removed]",
      "text/plain": [
       "<Figure size 432x288 with 1 Axes>"
      ]
     },
     "metadata": {
      "needs_background": "light"
     },
     "output_type": "display_data"
    }
   ],
   "source": [
    "accuracy = history.history['accuracy']\n",
    "val_accuracy = history.history['val_accuracy']\n",
    "loss = history.history['loss']\n",
    "val_loss = history.history['val_loss']\n",
    "\n",
    "epochs = range(len(accuracy))\n",
    "\n",
    "plt.plot(epochs, accuracy, 'bo', label='Training accuracy')\n",
    "plt.plot(epochs, val_accuracy, 'b', label='Validation accuracy')\n",
    "plt.title('Training and validation accuracyuracy')\n",
    "plt.legend()\n",
    "\n",
    "plt.figure()\n",
    "\n",
    "plt.plot(epochs, loss, 'bo', label='Training loss')\n",
    "plt.plot(epochs, val_loss, 'b', label='Validation loss')\n",
    "plt.title('Training and validation loss')\n",
    "plt.legend()\n",
    "\n",
    "plt.show()"
   ]
  },
  {
   "cell_type": "markdown",
   "id": "8e9fdaa2",
   "metadata": {},
   "source": [
    "# 전이학습 - 미세조정"
   ]
  },
  {
   "cell_type": "code",
   "execution_count": 34,
   "id": "71f103ca",
   "metadata": {},
   "outputs": [
    {
     "name": "stdout",
     "output_type": "stream",
     "text": [
      "ERROR! Session/line number was not unique in database. History logging moved to new session 240\n"
     ]
    }
   ],
   "source": [
    "# VGG16 다운로드 - 전이학습 모델\n",
    "from tensorflow.keras.applications import VGG16\n",
    "\n",
    "# 특징 추출부만 가져오기\n",
    "conv_base = VGG16(weights = 'imagenet',# 개/고양이 분류 모델의 가중치 가져오기\n",
    "                  include_top = False, # 분류기는 제외하고 가져오겠다\n",
    "                  input_shape = (150,150,3)                  \n",
    "                 )"
   ]
  },
  {
   "cell_type": "code",
   "execution_count": 35,
   "id": "059c96ad",
   "metadata": {},
   "outputs": [
    {
     "name": "stdout",
     "output_type": "stream",
     "text": [
      "ERROR! Session/line number was not unique in database. History logging moved to new session 241\n"
     ]
    }
   ],
   "source": [
    "from tensorflow.keras.models import Sequential\n",
    "from tensorflow.keras.layers import Dense, Flatten"
   ]
  },
  {
   "cell_type": "code",
   "execution_count": 36,
   "id": "3b6b904c",
   "metadata": {
    "collapsed": true
   },
   "outputs": [
    {
     "name": "stdout",
     "output_type": "stream",
     "text": [
      "ERROR! Session/line number was not unique in database. History logging moved to new session 242\n",
      "Model: \"sequential_2\"\n",
      "_________________________________________________________________\n",
      "Layer (type)                 Output Shape              Param #   \n",
      "=================================================================\n",
      "vgg16 (Model)                (None, 4, 4, 512)         14714688  \n",
      "_________________________________________________________________\n",
      "flatten_2 (Flatten)          (None, 8192)              0         \n",
      "_________________________________________________________________\n",
      "dense_4 (Dense)              (None, 256)               2097408   \n",
      "_________________________________________________________________\n",
      "dense_5 (Dense)              (None, 2)                 514       \n",
      "=================================================================\n",
      "Total params: 16,812,610\n",
      "Trainable params: 16,812,610\n",
      "Non-trainable params: 0\n",
      "_________________________________________________________________\n"
     ]
    }
   ],
   "source": [
    "model = Sequential()\n",
    "\n",
    "model.add(conv_base)\n",
    "model.add(Flatten())\n",
    "model.add(Dense(256,activation='relu') )\n",
    "model.add(Dense(2,activation='softmax') )\n",
    "\n",
    "model.summary()"
   ]
  },
  {
   "cell_type": "code",
   "execution_count": 37,
   "id": "6a80be0b",
   "metadata": {
    "collapsed": true
   },
   "outputs": [
    {
     "name": "stdout",
     "output_type": "stream",
     "text": [
      "Model: \"vgg16\"\n",
      "_________________________________________________________________\n",
      "Layer (type)                 Output Shape              Param #   \n",
      "=================================================================\n",
      "input_4 (InputLayer)         [(None, 150, 150, 3)]     0         \n",
      "_________________________________________________________________\n",
      "block1_conv1 (Conv2D)        (None, 150, 150, 64)      1792      \n",
      "_________________________________________________________________\n",
      "block1_conv2 (Conv2D)        (None, 150, 150, 64)      36928     \n",
      "_________________________________________________________________\n",
      "block1_pool (MaxPooling2D)   (None, 75, 75, 64)        0         \n",
      "_________________________________________________________________\n",
      "block2_conv1 (Conv2D)        (None, 75, 75, 128)       73856     \n",
      "_________________________________________________________________\n",
      "block2_conv2 (Conv2D)        (None, 75, 75, 128)       147584    \n",
      "_________________________________________________________________\n",
      "block2_pool (MaxPooling2D)   (None, 37, 37, 128)       0         \n",
      "_________________________________________________________________\n",
      "block3_conv1 (Conv2D)        (None, 37, 37, 256)       295168    \n",
      "_________________________________________________________________\n",
      "block3_conv2 (Conv2D)        (None, 37, 37, 256)       590080    \n",
      "_________________________________________________________________\n",
      "block3_conv3 (Conv2D)        (None, 37, 37, 256)       590080    \n",
      "_________________________________________________________________\n",
      "block3_pool (MaxPooling2D)   (None, 18, 18, 256)       0         \n",
      "_________________________________________________________________\n",
      "block4_conv1 (Conv2D)        (None, 18, 18, 512)       1180160   \n",
      "_________________________________________________________________\n",
      "block4_conv2 (Conv2D)        (None, 18, 18, 512)       2359808   \n",
      "_________________________________________________________________\n",
      "block4_conv3 (Conv2D)        (None, 18, 18, 512)       2359808   \n",
      "_________________________________________________________________\n",
      "block4_pool (MaxPooling2D)   (None, 9, 9, 512)         0         \n",
      "_________________________________________________________________\n",
      "block5_conv1 (Conv2D)        (None, 9, 9, 512)         2359808   \n",
      "_________________________________________________________________\n",
      "block5_conv2 (Conv2D)        (None, 9, 9, 512)         2359808   \n",
      "_________________________________________________________________\n",
      "block5_conv3 (Conv2D)        (None, 9, 9, 512)         2359808   \n",
      "_________________________________________________________________\n",
      "block5_pool (MaxPooling2D)   (None, 4, 4, 512)         0         \n",
      "=================================================================\n",
      "Total params: 14,714,688\n",
      "Trainable params: 14,714,688\n",
      "Non-trainable params: 0\n",
      "_________________________________________________________________\n"
     ]
    }
   ],
   "source": [
    "# 특성추출부의 하위 3개층을 학습 가능하도록 만들어보자 \n",
    "conv_base.summary()"
   ]
  },
  {
   "cell_type": "code",
   "execution_count": 38,
   "id": "00eda484",
   "metadata": {},
   "outputs": [
    {
     "name": "stdout",
     "output_type": "stream",
     "text": [
      "30\n"
     ]
    }
   ],
   "source": [
    "print(len(model.trainable_weights))"
   ]
  },
  {
   "cell_type": "code",
   "execution_count": 39,
   "id": "4ebdbed6",
   "metadata": {},
   "outputs": [],
   "source": [
    "# 일단 전체 층을 학습하도록 만듦\n",
    "conv_base.trainable=True\n",
    "\n",
    "set_trainable=False\n",
    "#block5_conv1부터 학습이 가능하게 만듦\n",
    "for layer in conv_base.layers:\n",
    "    if layer.name=='block5_conv1':\n",
    "        set_trainable=True\n",
    "    if set_trainable:\n",
    "        layer.trainable=True\n",
    "    else:\n",
    "        layer.trainable=False       \n"
   ]
  },
  {
   "cell_type": "code",
   "execution_count": 40,
   "id": "a474e414",
   "metadata": {},
   "outputs": [
    {
     "name": "stdout",
     "output_type": "stream",
     "text": [
      "10\n"
     ]
    }
   ],
   "source": [
    "print(len(model.trainable_weights))"
   ]
  },
  {
   "cell_type": "code",
   "execution_count": 41,
   "id": "5db1828e",
   "metadata": {},
   "outputs": [
    {
     "name": "stdout",
     "output_type": "stream",
     "text": [
      "WARNING:tensorflow:sample_weight modes were coerced from\n",
      "  ...\n",
      "    to  \n",
      "  ['...']\n"
     ]
    },
    {
     "name": "stderr",
     "output_type": "stream",
     "text": [
      "WARNING:tensorflow:sample_weight modes were coerced from\n",
      "  ...\n",
      "    to  \n",
      "  ['...']\n"
     ]
    },
    {
     "name": "stdout",
     "output_type": "stream",
     "text": [
      "WARNING:tensorflow:sample_weight modes were coerced from\n",
      "  ...\n",
      "    to  \n",
      "  ['...']\n"
     ]
    },
    {
     "name": "stderr",
     "output_type": "stream",
     "text": [
      "WARNING:tensorflow:sample_weight modes were coerced from\n",
      "  ...\n",
      "    to  \n",
      "  ['...']\n"
     ]
    },
    {
     "name": "stdout",
     "output_type": "stream",
     "text": [
      "Train for 100 steps, validate for 50 steps\n",
      "Epoch 1/5\n",
      "100/100 - 124s - loss: 3.8269 - accuracy: 0.4960 - val_loss: 0.6932 - val_accuracy: 0.5000\n",
      "Epoch 2/5\n",
      "100/100 - 126s - loss: 0.6933 - accuracy: 0.4930 - val_loss: 0.6931 - val_accuracy: 0.5000\n",
      "Epoch 3/5\n",
      "100/100 - 135s - loss: 0.6933 - accuracy: 0.4730 - val_loss: 0.6931 - val_accuracy: 0.5000\n",
      "Epoch 4/5\n",
      "100/100 - 135s - loss: 0.6932 - accuracy: 0.4900 - val_loss: 0.6931 - val_accuracy: 0.5000\n",
      "Epoch 5/5\n",
      "100/100 - 126s - loss: 0.6933 - accuracy: 0.4920 - val_loss: 0.6931 - val_accuracy: 0.5000\n"
     ]
    }
   ],
   "source": [
    "model.compile(loss='categorical_crossentropy',\n",
    "              optimizer='rmsprop',\n",
    "              metrics=['accuracy'])\n",
    "\n",
    "history = model.fit(\n",
    "      train_generator,\n",
    "      steps_per_epoch=100,\n",
    "      epochs=5,\n",
    "      validation_data=val_generator,\n",
    "      validation_steps=50,\n",
    "      verbose=2)"
   ]
  },
  {
   "cell_type": "code",
   "execution_count": null,
   "id": "4b5b1b4c",
   "metadata": {},
   "outputs": [],
   "source": [
    "##### 잘 짜여있던 학습내용의 동결을 품 + epoch 의 숫자가 적어서 결과가 썩 좋지 않게 나온 것이다. \n",
    "##### epoch이 늘어난다면 성장할 가능성이 있다."
   ]
  }
 ],
 "metadata": {
  "kernelspec": {
   "display_name": "Python 3 (ipykernel)",
   "language": "python",
   "name": "python3"
  },
  "language_info": {
   "codemirror_mode": {
    "name": "ipython",
    "version": 3
   },
   "file_extension": ".py",
   "mimetype": "text/x-python",
   "name": "python",
   "nbconvert_exporter": "python",
   "pygments_lexer": "ipython3",
   "version": "3.7.13"
  }
 },
 "nbformat": 4,
 "nbformat_minor": 5
}
