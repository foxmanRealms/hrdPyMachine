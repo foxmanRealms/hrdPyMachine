{
 "cells": [
  {
   "cell_type": "markdown",
   "id": "cba76e57",
   "metadata": {},
   "source": [
    "### 문제정의\n",
    "- 500명의 키와 몸무게, 비만도 라벨을 이용해 비만을 판단하는 모델을 만들어 보자."
   ]
  },
  {
   "cell_type": "code",
   "execution_count": 1,
   "id": "f7d28b86",
   "metadata": {},
   "outputs": [],
   "source": [
    "### 불러오기\n",
    "import pandas as pd\n",
    "import matplotlib.pyplot as plt\n",
    "from sklearn.neighbors import KNeighborsClassifier  ### KNN 모델\n",
    "from sklearn import metrics    ### 평가를 하기 위한"
   ]
  },
  {
   "cell_type": "markdown",
   "id": "c8b8b57b",
   "metadata": {},
   "source": [
    "### 데이터 수집"
   ]
  },
  {
   "cell_type": "code",
   "execution_count": 2,
   "id": "d7d387ab",
   "metadata": {},
   "outputs": [
    {
     "data": {
      "text/html": [
       "<div>\n",
       "<style scoped>\n",
       "    .dataframe tbody tr th:only-of-type {\n",
       "        vertical-align: middle;\n",
       "    }\n",
       "\n",
       "    .dataframe tbody tr th {\n",
       "        vertical-align: top;\n",
       "    }\n",
       "\n",
       "    .dataframe thead th {\n",
       "        text-align: right;\n",
       "    }\n",
       "</style>\n",
       "<table border=\"1\" class=\"dataframe\">\n",
       "  <thead>\n",
       "    <tr style=\"text-align: right;\">\n",
       "      <th></th>\n",
       "      <th>Gender</th>\n",
       "      <th>Height</th>\n",
       "      <th>Weight</th>\n",
       "    </tr>\n",
       "    <tr>\n",
       "      <th>Label</th>\n",
       "      <th></th>\n",
       "      <th></th>\n",
       "      <th></th>\n",
       "    </tr>\n",
       "  </thead>\n",
       "  <tbody>\n",
       "    <tr>\n",
       "      <th>Obesity</th>\n",
       "      <td>Male</td>\n",
       "      <td>174</td>\n",
       "      <td>96</td>\n",
       "    </tr>\n",
       "    <tr>\n",
       "      <th>Normal</th>\n",
       "      <td>Male</td>\n",
       "      <td>189</td>\n",
       "      <td>87</td>\n",
       "    </tr>\n",
       "    <tr>\n",
       "      <th>Obesity</th>\n",
       "      <td>Female</td>\n",
       "      <td>185</td>\n",
       "      <td>110</td>\n",
       "    </tr>\n",
       "    <tr>\n",
       "      <th>Overweight</th>\n",
       "      <td>Female</td>\n",
       "      <td>195</td>\n",
       "      <td>104</td>\n",
       "    </tr>\n",
       "    <tr>\n",
       "      <th>Overweight</th>\n",
       "      <td>Male</td>\n",
       "      <td>149</td>\n",
       "      <td>61</td>\n",
       "    </tr>\n",
       "  </tbody>\n",
       "</table>\n",
       "</div>"
      ],
      "text/plain": [
       "            Gender  Height  Weight\n",
       "Label                             \n",
       "Obesity       Male     174      96\n",
       "Normal        Male     189      87\n",
       "Obesity     Female     185     110\n",
       "Overweight  Female     195     104\n",
       "Overweight    Male     149      61"
      ]
     },
     "execution_count": 2,
     "metadata": {},
     "output_type": "execute_result"
    }
   ],
   "source": [
    "data=pd.read_csv('./data/bmi_500.csv', index_col='Label')\n",
    "data.head()"
   ]
  },
  {
   "cell_type": "code",
   "execution_count": 3,
   "id": "9aeea3e4",
   "metadata": {},
   "outputs": [
    {
     "name": "stdout",
     "output_type": "stream",
     "text": [
      "<class 'pandas.core.frame.DataFrame'>\n",
      "Index: 500 entries, Obesity to Extreme Obesity\n",
      "Data columns (total 3 columns):\n",
      " #   Column  Non-Null Count  Dtype \n",
      "---  ------  --------------  ----- \n",
      " 0   Gender  500 non-null    object\n",
      " 1   Height  500 non-null    int64 \n",
      " 2   Weight  500 non-null    int64 \n",
      "dtypes: int64(2), object(1)\n",
      "memory usage: 15.6+ KB\n"
     ]
    }
   ],
   "source": [
    "data.info()"
   ]
  },
  {
   "cell_type": "markdown",
   "id": "d33938c5",
   "metadata": {},
   "source": [
    "### 각 비만도 등급별 시각화"
   ]
  },
  {
   "cell_type": "code",
   "execution_count": 4,
   "id": "bbda6e92",
   "metadata": {},
   "outputs": [],
   "source": [
    "def myScatter(label,color):\n",
    "    tmp=data.loc[label]\n",
    "    plt.scatter(tmp['Weight'],\n",
    "               tmp['Height'],\n",
    "               c=color,\n",
    "               label=label)"
   ]
  },
  {
   "cell_type": "code",
   "execution_count": 5,
   "id": "a21227f5",
   "metadata": {},
   "outputs": [
    {
     "data": {
      "image/png": "[encoded data removed]",
      "text/plain": [
       "<Figure size 360x360 with 1 Axes>"
      ]
     },
     "metadata": {
      "needs_background": "light"
     },
     "output_type": "display_data"
    }
   ],
   "source": [
    "plt.figure(figsize=(5,5))\n",
    "myScatter('Extremely Weak','black')\n",
    "myScatter('Weak','blue')\n",
    "myScatter('Normal','green')\n",
    "myScatter('Overweight','pink')\n",
    "myScatter('Obesity','purple')\n",
    "myScatter('Extreme Obesity','red')\n",
    "\n",
    "plt.legend(loc='lower right')\n",
    "plt.xlabel('Weight')\n",
    "plt.ylabel('Height')\n",
    "\n",
    "\n",
    "plt.show()"
   ]
  },
  {
   "cell_type": "code",
   "execution_count": 6,
   "id": "445b6b1e",
   "metadata": {},
   "outputs": [
    {
     "data": {
      "text/plain": [
       "Label\n",
       "Normal    87\n",
       "Normal    81\n",
       "Normal    51\n",
       "Normal    79\n",
       "Normal    67\n",
       "          ..\n",
       "Normal    65\n",
       "Normal    64\n",
       "Normal    55\n",
       "Normal    80\n",
       "Normal    59\n",
       "Name: Weight, Length: 69, dtype: int64"
      ]
     },
     "execution_count": 6,
     "metadata": {},
     "output_type": "execute_result"
    }
   ],
   "source": [
    "data.loc['Normal']['Weight']"
   ]
  },
  {
   "cell_type": "code",
   "execution_count": 7,
   "id": "6da95e61",
   "metadata": {},
   "outputs": [
    {
     "data": {
      "text/plain": [
       "Index(['Obesity', 'Normal', 'Overweight', 'Extreme Obesity', 'Weak',\n",
       "       'Extremely Weak'],\n",
       "      dtype='object', name='Label')"
      ]
     },
     "execution_count": 7,
     "metadata": {},
     "output_type": "execute_result"
    }
   ],
   "source": [
    "data.index.unique()"
   ]
  },
  {
   "cell_type": "code",
   "execution_count": 8,
   "id": "99348aaf",
   "metadata": {},
   "outputs": [],
   "source": [
    "# Normal:정상\n",
    "# Weak : 저체중\n",
    "# Extremely Weak : 강한 저체중\n",
    "# Overweight : 경도 비만\n",
    "# Extreme Obesity : 고도 비만\n",
    "# Obesity : 비만"
   ]
  },
  {
   "cell_type": "markdown",
   "id": "291e404e",
   "metadata": {},
   "source": [
    "### 모델링\n",
    "+ 모델생성 및 하이퍼파라미터 조정"
   ]
  },
  {
   "cell_type": "code",
   "execution_count": 9,
   "id": "5b354573",
   "metadata": {},
   "outputs": [],
   "source": [
    "X=data.iloc[:,1:]   ### 행은 모두 가져와야하니까 첫 항에 : // 열은 2개만 있으면 되니까 1부터 끝까지의  1:"
   ]
  },
  {
   "cell_type": "code",
   "execution_count": 10,
   "id": "0275b3a0",
   "metadata": {},
   "outputs": [],
   "source": [
    "y=data.index"
   ]
  },
  {
   "cell_type": "code",
   "execution_count": 11,
   "id": "21c2919e",
   "metadata": {},
   "outputs": [],
   "source": [
    "X_train=X.iloc[:350,:]   ### 7대 3으로 나눠서 쓸 것이기 때문에 350행까지 가져오고 컬럼은 모두 가져온다\n",
    "y_train=y[:350]    ### 1차원 데이터니까 행만 가져오면 된다\n",
    "\n",
    "X_test=X.iloc[350:,:]\n",
    "y_test=y[350:]"
   ]
  },
  {
   "cell_type": "code",
   "execution_count": 12,
   "id": "a43b4772",
   "metadata": {},
   "outputs": [],
   "source": [
    "knn= KNeighborsClassifier(n_neighbors=10)"
   ]
  },
  {
   "cell_type": "code",
   "execution_count": 13,
   "id": "4427d294",
   "metadata": {},
   "outputs": [
    {
     "data": {
      "text/plain": [
       "KNeighborsClassifier(n_neighbors=10)"
      ]
     },
     "execution_count": 13,
     "metadata": {},
     "output_type": "execute_result"
    }
   ],
   "source": [
    "knn.fit(X_train,y_train)"
   ]
  },
  {
   "cell_type": "code",
   "execution_count": 14,
   "id": "4de05ee5",
   "metadata": {},
   "outputs": [],
   "source": [
    "pre=knn.predict(X_test)"
   ]
  },
  {
   "cell_type": "code",
   "execution_count": 15,
   "id": "7472b51d",
   "metadata": {},
   "outputs": [
    {
     "data": {
      "text/plain": [
       "0.9333333333333333"
      ]
     },
     "execution_count": 15,
     "metadata": {},
     "output_type": "execute_result"
    }
   ],
   "source": [
    "metrics.accuracy_score(pre,y_test)"
   ]
  },
  {
   "cell_type": "markdown",
   "id": "2cba878d",
   "metadata": {},
   "source": [
    "### 활용하기"
   ]
  },
  {
   "cell_type": "code",
   "execution_count": 16,
   "id": "fe21c216",
   "metadata": {},
   "outputs": [
    {
     "data": {
      "text/plain": [
       "array(['Normal'], dtype=object)"
      ]
     },
     "execution_count": 16,
     "metadata": {},
     "output_type": "execute_result"
    }
   ],
   "source": [
    "knn.predict( [[179,72]])"
   ]
  },
  {
   "cell_type": "code",
   "execution_count": null,
   "id": "5d64a135",
   "metadata": {},
   "outputs": [],
   "source": []
  }
 ],
 "metadata": {
  "kernelspec": {
   "display_name": "Python 3 (ipykernel)",
   "language": "python",
   "name": "python3"
  },
  "language_info": {
   "codemirror_mode": {
    "name": "ipython",
    "version": 3
   },
   "file_extension": ".py",
   "mimetype": "text/x-python",
   "name": "python",
   "nbconvert_exporter": "python",
   "pygments_lexer": "ipython3",
   "version": "3.9.7"
  }
 },
 "nbformat": 4,
 "nbformat_minor": 5
}
